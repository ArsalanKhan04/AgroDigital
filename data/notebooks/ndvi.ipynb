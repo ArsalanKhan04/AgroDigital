{
 "cells": [
  {
   "cell_type": "code",
   "execution_count": 1,
   "id": "0d2bd916-6bab-4e9e-af52-f7aa81fd1c2d",
   "metadata": {},
   "outputs": [],
   "source": [
    "import os"
   ]
  },
  {
   "cell_type": "code",
   "execution_count": 2,
   "id": "4094bbf4-5c62-46c3-9e6b-591bdbddc99b",
   "metadata": {},
   "outputs": [
    {
     "data": {
      "text/plain": [
       "'/home/arsalan/Public/uni/sem3/dbs/project/AgroNew/data/notebooks'"
      ]
     },
     "execution_count": 2,
     "metadata": {},
     "output_type": "execute_result"
    }
   ],
   "source": [
    "os.getcwd()"
   ]
  },
  {
   "cell_type": "code",
   "execution_count": 17,
   "id": "73432361-7134-4472-95f5-8ffdb03b34cb",
   "metadata": {},
   "outputs": [],
   "source": [
    "import numpy as np"
   ]
  },
  {
   "cell_type": "code",
   "execution_count": 4,
   "id": "904418a3-f1b3-474b-adbe-5a200f2fadc5",
   "metadata": {},
   "outputs": [
    {
     "data": {
      "text/plain": [
       "True"
      ]
     },
     "execution_count": 4,
     "metadata": {},
     "output_type": "execute_result"
    }
   ],
   "source": [
    "os.path.exists(file_path)"
   ]
  },
  {
   "cell_type": "code",
   "execution_count": 5,
   "id": "36dbfd18-7012-4c3e-86d1-0b8ba6fa1a1e",
   "metadata": {},
   "outputs": [
    {
     "name": "stdout",
     "output_type": "stream",
     "text": [
      "Defaulting to user installation because normal site-packages is not writeable\n",
      "Requirement already satisfied: h5py in /home/arsalan/.local/lib/python3.10/site-packages (3.10.0)\n",
      "Requirement already satisfied: numpy>=1.17.3 in /home/arsalan/.local/lib/python3.10/site-packages (from h5py) (1.26.2)\n",
      "Note: you may need to restart the kernel to use updated packages.\n"
     ]
    }
   ],
   "source": [
    "%pip install h5py"
   ]
  },
  {
   "cell_type": "code",
   "execution_count": 18,
   "id": "297917b3-2a80-43ab-aac2-8e93c1a8aca8",
   "metadata": {},
   "outputs": [],
   "source": [
    "import h5py"
   ]
  },
  {
   "cell_type": "code",
   "execution_count": 19,
   "id": "13161e0d-fe72-4381-a628-5ca08e9e9184",
   "metadata": {},
   "outputs": [
    {
     "ename": "OSError",
     "evalue": "Unable to synchronously open file (file signature not found)",
     "output_type": "error",
     "traceback": [
      "\u001b[0;31m---------------------------------------------------------------------------\u001b[0m",
      "\u001b[0;31mOSError\u001b[0m                                   Traceback (most recent call last)",
      "\u001b[0;32m/tmp/ipykernel_43215/2511007797.py\u001b[0m in \u001b[0;36m<module>\u001b[0;34m\u001b[0m\n\u001b[0;32m----> 1\u001b[0;31m \u001b[0;32mwith\u001b[0m \u001b[0mh5py\u001b[0m\u001b[0;34m.\u001b[0m\u001b[0mFile\u001b[0m\u001b[0;34m(\u001b[0m\u001b[0mfile_path\u001b[0m\u001b[0;34m,\u001b[0m \u001b[0;34m'r+'\u001b[0m\u001b[0;34m)\u001b[0m \u001b[0;32mas\u001b[0m \u001b[0mfile\u001b[0m\u001b[0;34m:\u001b[0m\u001b[0;34m\u001b[0m\u001b[0;34m\u001b[0m\u001b[0m\n\u001b[0m\u001b[1;32m      2\u001b[0m     \u001b[0;31m# List all groups and datasets in the file\u001b[0m\u001b[0;34m\u001b[0m\u001b[0;34m\u001b[0m\u001b[0m\n\u001b[1;32m      3\u001b[0m     \u001b[0mprint\u001b[0m\u001b[0;34m(\u001b[0m\u001b[0;34m\"Groups and Datasets: \"\u001b[0m\u001b[0;34m)\u001b[0m\u001b[0;34m\u001b[0m\u001b[0;34m\u001b[0m\u001b[0m\n\u001b[1;32m      4\u001b[0m     \u001b[0mprint\u001b[0m\u001b[0;34m(\u001b[0m\u001b[0mlist\u001b[0m\u001b[0;34m(\u001b[0m\u001b[0mfile\u001b[0m\u001b[0;34m.\u001b[0m\u001b[0mkeys\u001b[0m\u001b[0;34m(\u001b[0m\u001b[0;34m)\u001b[0m\u001b[0;34m)\u001b[0m\u001b[0;34m)\u001b[0m\u001b[0;34m\u001b[0m\u001b[0;34m\u001b[0m\u001b[0m\n",
      "\u001b[0;32m~/.local/lib/python3.10/site-packages/h5py/_hl/files.py\u001b[0m in \u001b[0;36m__init__\u001b[0;34m(self, name, mode, driver, libver, userblock_size, swmr, rdcc_nslots, rdcc_nbytes, rdcc_w0, track_order, fs_strategy, fs_persist, fs_threshold, fs_page_size, page_buf_size, min_meta_keep, min_raw_keep, locking, alignment_threshold, alignment_interval, meta_block_size, **kwds)\u001b[0m\n\u001b[1;32m    560\u001b[0m                                  \u001b[0mfs_persist\u001b[0m\u001b[0;34m=\u001b[0m\u001b[0mfs_persist\u001b[0m\u001b[0;34m,\u001b[0m \u001b[0mfs_threshold\u001b[0m\u001b[0;34m=\u001b[0m\u001b[0mfs_threshold\u001b[0m\u001b[0;34m,\u001b[0m\u001b[0;34m\u001b[0m\u001b[0;34m\u001b[0m\u001b[0m\n\u001b[1;32m    561\u001b[0m                                  fs_page_size=fs_page_size)\n\u001b[0;32m--> 562\u001b[0;31m                 \u001b[0mfid\u001b[0m \u001b[0;34m=\u001b[0m \u001b[0mmake_fid\u001b[0m\u001b[0;34m(\u001b[0m\u001b[0mname\u001b[0m\u001b[0;34m,\u001b[0m \u001b[0mmode\u001b[0m\u001b[0;34m,\u001b[0m \u001b[0muserblock_size\u001b[0m\u001b[0;34m,\u001b[0m \u001b[0mfapl\u001b[0m\u001b[0;34m,\u001b[0m \u001b[0mfcpl\u001b[0m\u001b[0;34m,\u001b[0m \u001b[0mswmr\u001b[0m\u001b[0;34m=\u001b[0m\u001b[0mswmr\u001b[0m\u001b[0;34m)\u001b[0m\u001b[0;34m\u001b[0m\u001b[0;34m\u001b[0m\u001b[0m\n\u001b[0m\u001b[1;32m    563\u001b[0m \u001b[0;34m\u001b[0m\u001b[0m\n\u001b[1;32m    564\u001b[0m             \u001b[0;32mif\u001b[0m \u001b[0misinstance\u001b[0m\u001b[0;34m(\u001b[0m\u001b[0mlibver\u001b[0m\u001b[0;34m,\u001b[0m \u001b[0mtuple\u001b[0m\u001b[0;34m)\u001b[0m\u001b[0;34m:\u001b[0m\u001b[0;34m\u001b[0m\u001b[0;34m\u001b[0m\u001b[0m\n",
      "\u001b[0;32m~/.local/lib/python3.10/site-packages/h5py/_hl/files.py\u001b[0m in \u001b[0;36mmake_fid\u001b[0;34m(name, mode, userblock_size, fapl, fcpl, swmr)\u001b[0m\n\u001b[1;32m    235\u001b[0m         \u001b[0mfid\u001b[0m \u001b[0;34m=\u001b[0m \u001b[0mh5f\u001b[0m\u001b[0;34m.\u001b[0m\u001b[0mopen\u001b[0m\u001b[0;34m(\u001b[0m\u001b[0mname\u001b[0m\u001b[0;34m,\u001b[0m \u001b[0mflags\u001b[0m\u001b[0;34m,\u001b[0m \u001b[0mfapl\u001b[0m\u001b[0;34m=\u001b[0m\u001b[0mfapl\u001b[0m\u001b[0;34m)\u001b[0m\u001b[0;34m\u001b[0m\u001b[0;34m\u001b[0m\u001b[0m\n\u001b[1;32m    236\u001b[0m     \u001b[0;32melif\u001b[0m \u001b[0mmode\u001b[0m \u001b[0;34m==\u001b[0m \u001b[0;34m'r+'\u001b[0m\u001b[0;34m:\u001b[0m\u001b[0;34m\u001b[0m\u001b[0;34m\u001b[0m\u001b[0m\n\u001b[0;32m--> 237\u001b[0;31m         \u001b[0mfid\u001b[0m \u001b[0;34m=\u001b[0m \u001b[0mh5f\u001b[0m\u001b[0;34m.\u001b[0m\u001b[0mopen\u001b[0m\u001b[0;34m(\u001b[0m\u001b[0mname\u001b[0m\u001b[0;34m,\u001b[0m \u001b[0mh5f\u001b[0m\u001b[0;34m.\u001b[0m\u001b[0mACC_RDWR\u001b[0m\u001b[0;34m,\u001b[0m \u001b[0mfapl\u001b[0m\u001b[0;34m=\u001b[0m\u001b[0mfapl\u001b[0m\u001b[0;34m)\u001b[0m\u001b[0;34m\u001b[0m\u001b[0;34m\u001b[0m\u001b[0m\n\u001b[0m\u001b[1;32m    238\u001b[0m     \u001b[0;32melif\u001b[0m \u001b[0mmode\u001b[0m \u001b[0;32min\u001b[0m \u001b[0;34m[\u001b[0m\u001b[0;34m'w-'\u001b[0m\u001b[0;34m,\u001b[0m \u001b[0;34m'x'\u001b[0m\u001b[0;34m]\u001b[0m\u001b[0;34m:\u001b[0m\u001b[0;34m\u001b[0m\u001b[0;34m\u001b[0m\u001b[0m\n\u001b[1;32m    239\u001b[0m         \u001b[0mfid\u001b[0m \u001b[0;34m=\u001b[0m \u001b[0mh5f\u001b[0m\u001b[0;34m.\u001b[0m\u001b[0mcreate\u001b[0m\u001b[0;34m(\u001b[0m\u001b[0mname\u001b[0m\u001b[0;34m,\u001b[0m \u001b[0mh5f\u001b[0m\u001b[0;34m.\u001b[0m\u001b[0mACC_EXCL\u001b[0m\u001b[0;34m,\u001b[0m \u001b[0mfapl\u001b[0m\u001b[0;34m=\u001b[0m\u001b[0mfapl\u001b[0m\u001b[0;34m,\u001b[0m \u001b[0mfcpl\u001b[0m\u001b[0;34m=\u001b[0m\u001b[0mfcpl\u001b[0m\u001b[0;34m)\u001b[0m\u001b[0;34m\u001b[0m\u001b[0;34m\u001b[0m\u001b[0m\n",
      "\u001b[0;32mh5py/_objects.pyx\u001b[0m in \u001b[0;36mh5py._objects.with_phil.wrapper\u001b[0;34m()\u001b[0m\n",
      "\u001b[0;32mh5py/_objects.pyx\u001b[0m in \u001b[0;36mh5py._objects.with_phil.wrapper\u001b[0;34m()\u001b[0m\n",
      "\u001b[0;32mh5py/h5f.pyx\u001b[0m in \u001b[0;36mh5py.h5f.open\u001b[0;34m()\u001b[0m\n",
      "\u001b[0;31mOSError\u001b[0m: Unable to synchronously open file (file signature not found)"
     ]
    }
   ],
   "source": [
    "with h5py.File(file_path, 'r+') as file:\n",
    "    # List all groups and datasets in the file\n",
    "    print(\"Groups and Datasets: \")\n",
    "    print(list(file.keys()))"
   ]
  },
  {
   "cell_type": "code",
   "execution_count": 20,
   "id": "7daea395-e256-4aef-92d4-ef869ede44d9",
   "metadata": {},
   "outputs": [
    {
     "name": "stdout",
     "output_type": "stream",
     "text": [
      "Defaulting to user installation because normal site-packages is not writeable\n",
      "Collecting pyhdf\n",
      "  Downloading pyhdf-0.11.3-cp310-cp310-manylinux_2_17_x86_64.manylinux2014_x86_64.whl (771 kB)\n",
      "\u001b[2K     \u001b[38;2;114;156;31m━━━━━━━━━━━━━━━━━━━━━━━━━━━━━━━━━━━━━\u001b[0m \u001b[32m771.4/771.4 KB\u001b[0m \u001b[31m424.7 kB/s\u001b[0m eta \u001b[36m0:00:00\u001b[0m1m439.6 kB/s\u001b[0m eta \u001b[36m0:00:01\u001b[0m\n",
      "\u001b[?25hInstalling collected packages: pyhdf\n",
      "Successfully installed pyhdf-0.11.3\n",
      "Note: you may need to restart the kernel to use updated packages.\n"
     ]
    }
   ],
   "source": [
    "%pip install pyhdf"
   ]
  },
  {
   "cell_type": "code",
   "execution_count": 1,
   "id": "d6fc85c7-645a-47df-84b5-2a635d4cfa70",
   "metadata": {},
   "outputs": [],
   "source": [
    "from pyhdf import SD"
   ]
  },
  {
   "cell_type": "code",
   "execution_count": 6,
   "id": "f5f75605-5e6a-4f62-a07d-54dfdd7df52d",
   "metadata": {},
   "outputs": [
    {
     "data": {
      "text/plain": [
       "'../ndvi/MOD13A1.A2023321.h23v5.061.2023340004705.hdf'"
      ]
     },
     "execution_count": 6,
     "metadata": {},
     "output_type": "execute_result"
    }
   ],
   "source": [
    "file_path = \"../ndvi/MOD13A1.A2023321.{h23v05}.061.2023340004705.hdf\""
   ]
  },
  {
   "cell_type": "code",
   "execution_count": 7,
   "id": "13f074fc-eb36-4339-a5dc-3d29193a2491",
   "metadata": {},
   "outputs": [],
   "source": [
    "hdf_file = SD.SD(file_path.format(\"h23v05\"), SD.SDC.READ)"
   ]
  },
  {
   "cell_type": "code",
   "execution_count": 8,
   "id": "71aa2b0f-21b5-42a6-87e4-70c4a9cee70e",
   "metadata": {},
   "outputs": [
    {
     "name": "stdout",
     "output_type": "stream",
     "text": [
      "Datasets in the HDF-EOS file:\n",
      "500m 16 days NDVI\n",
      "500m 16 days EVI\n",
      "500m 16 days VI Quality\n",
      "500m 16 days red reflectance\n",
      "500m 16 days NIR reflectance\n",
      "500m 16 days blue reflectance\n",
      "500m 16 days MIR reflectance\n",
      "500m 16 days view zenith angle\n",
      "500m 16 days sun zenith angle\n",
      "500m 16 days relative azimuth angle\n",
      "500m 16 days composite day of the year\n",
      "500m 16 days pixel reliability\n"
     ]
    }
   ],
   "source": [
    "print(\"Datasets in the HDF-EOS file:\")\n",
    "for dataset_name in hdf_file.datasets().keys():\n",
    "    print(dataset_name)"
   ]
  },
  {
   "cell_type": "code",
   "execution_count": 10,
   "id": "c5505049-fd3c-4abe-98ba-d60291745d2b",
   "metadata": {},
   "outputs": [],
   "source": [
    "dataset_ndvi = hdf_file.datasets()[\"500m 16 days NDVI\"]"
   ]
  },
  {
   "cell_type": "code",
   "execution_count": 11,
   "id": "1feda52d-88cd-4bdd-8cdd-0adc39fa9f8f",
   "metadata": {},
   "outputs": [],
   "source": [
    "dataset = hdf_file.select(\"500m 16 days NDVI\")"
   ]
  },
  {
   "cell_type": "code",
   "execution_count": 13,
   "id": "6c95c41c-061e-454d-a78a-a4b4b888d235",
   "metadata": {},
   "outputs": [
    {
     "data": {
      "text/plain": [
       "{'long_name': '500m 16 days NDVI',\n",
       " 'units': 'NDVI',\n",
       " 'valid_range': [-2000, 10000],\n",
       " '_FillValue': -3000,\n",
       " 'scale_factor': 10000.0,\n",
       " 'scale_factor_err': 0.0,\n",
       " 'add_offset': 0.0,\n",
       " 'add_offset_err': 0.0,\n",
       " 'calibrated_nt': 5}"
      ]
     },
     "execution_count": 13,
     "metadata": {},
     "output_type": "execute_result"
    }
   ],
   "source": [
    "dataset.attributes()"
   ]
  },
  {
   "cell_type": "code",
   "execution_count": 14,
   "id": "289b6c8c-4808-443c-b540-f7b12d2312ca",
   "metadata": {},
   "outputs": [
    {
     "data": {
      "text/plain": [
       "(2400, 2400)"
      ]
     },
     "execution_count": 14,
     "metadata": {},
     "output_type": "execute_result"
    }
   ],
   "source": [
    "dataset.get().shape"
   ]
  },
  {
   "cell_type": "code",
   "execution_count": 15,
   "id": "7059759d-ae1b-4043-a73b-441b43c05dc9",
   "metadata": {},
   "outputs": [],
   "source": [
    "ndvi_h23v05_data = dataset.get() "
   ]
  },
  {
   "cell_type": "code",
   "execution_count": 16,
   "id": "1b975d19-98af-41a4-a89c-f271c83c2c32",
   "metadata": {},
   "outputs": [
    {
     "data": {
      "text/plain": [
       "array([[ 994,  920,  920, ...,  774,  745,  661],\n",
       "       [ 877,  994,  930, ...,  675,  552,  483],\n",
       "       [ 863,  947,  932, ...,  490,  559,  477],\n",
       "       ...,\n",
       "       [1086, 1089, 1097, ..., 2206, 2263, 2253],\n",
       "       [1104, 1069,  911, ..., 2272, 2392, 2584],\n",
       "       [1065,  646,  657, ..., 2553, 2486, 2559]], dtype=int16)"
      ]
     },
     "execution_count": 16,
     "metadata": {},
     "output_type": "execute_result"
    }
   ],
   "source": [
    "ndvi_h23v05_data"
   ]
  },
  {
   "cell_type": "code",
   "execution_count": 20,
   "id": "1e6005d3-590d-4a82-ac9c-c82ed3afc644",
   "metadata": {},
   "outputs": [],
   "source": [
    "## Always remember the resolution of each granule\n",
    "# For now NDVI is 500m while LST is 1km\n",
    "# Hence NDVI resolution is 0.5 while LST is 1\n",
    "\n",
    "TILEVH = {\n",
    "    'h23v05': [(57.7350,    78.3353),   (30.0000,   40.0000)],\n",
    "    'h23v06': [(53.2089,    69.2917),   (20.0000,   30.0000)],\n",
    "    'h24v05': [(69.2820,    91.3894),   (30.0000,   40.0000)],\n",
    "    'h24v06': [(63.8507,    80.8387),   (20.0000,   30.0000)],\n",
    "}"
   ]
  },
  {
   "cell_type": "code",
   "execution_count": 23,
   "id": "5ac859ab-a098-49b9-b82a-b47ada815a7e",
   "metadata": {},
   "outputs": [
    {
     "data": {
      "text/plain": [
       "57.735"
      ]
     },
     "execution_count": 23,
     "metadata": {},
     "output_type": "execute_result"
    }
   ],
   "source": [
    "TILEVH['h23v05'][0][0]"
   ]
  },
  {
   "cell_type": "code",
   "execution_count": 34,
   "id": "544647b4-899a-47c9-9e88-934649a336a4",
   "metadata": {},
   "outputs": [],
   "source": [
    "from math import floor\n",
    "def return_coordinates(long, lat, resolution):\n",
    "    \n",
    "    total_points = 1200/resolution\n",
    "\n",
    "    tile = \"\"\n",
    "\n",
    "    for each in TILEVH.keys():\n",
    "        if long > TILEVH[each][0][0] and long < TILEVH[each][0][1] and lat > TILEVH[each][1][0] and lat < TILEVH[each][1][1]:\n",
    "            tile = each\n",
    "            break\n",
    "\n",
    "    if tile == \"\":\n",
    "        raise ValueError(\"Long and Latitudes are incorrect please provide again in order (long, lat)\")\n",
    "\n",
    "    rel_long = long - TILEVH[tile][0][0]\n",
    "    print(\"rel_long\", rel_long)\n",
    "    rel_lat = lat - TILEVH[tile][1][0]\n",
    "    long_dist = TILEVH[tile][0][1] - TILEVH[tile][0][0]\n",
    "    lat_dist = TILEVH[tile][1][1] - TILEVH[tile][1][0]\n",
    "\n",
    "    x = floor((rel_long/long_dist) * total_points)\n",
    "    y = floor((rel_lat/lat_dist) * total_points)\n",
    "\n",
    "    return (x, y, tile)"
   ]
  },
  {
   "cell_type": "code",
   "execution_count": 37,
   "id": "179857cd-f221-499d-b4dd-614d0306aa02",
   "metadata": {},
   "outputs": [
    {
     "name": "stdout",
     "output_type": "stream",
     "text": [
      "rel_long 15.265\n"
     ]
    },
    {
     "data": {
      "text/plain": [
       "(889, 360, 'h23v05')"
      ]
     },
     "execution_count": 37,
     "metadata": {},
     "output_type": "execute_result"
    }
   ],
   "source": [
    "return_coordinates(73, 33, 1)"
   ]
  },
  {
   "cell_type": "code",
   "execution_count": null,
   "id": "630b0927-acfc-4e93-8aa7-b4510173c01b",
   "metadata": {},
   "outputs": [],
   "source": []
  }
 ],
 "metadata": {
  "kernelspec": {
   "display_name": "Python 3 (ipykernel)",
   "language": "python",
   "name": "python3"
  },
  "language_info": {
   "codemirror_mode": {
    "name": "ipython",
    "version": 3
   },
   "file_extension": ".py",
   "mimetype": "text/x-python",
   "name": "python",
   "nbconvert_exporter": "python",
   "pygments_lexer": "ipython3",
   "version": "3.10.12"
  }
 },
 "nbformat": 4,
 "nbformat_minor": 5
}
