{
 "cells": [
  {
   "cell_type": "code",
   "execution_count": 1,
   "id": "87cc3076-a691-4180-86b4-405cc8fc5cca",
   "metadata": {},
   "outputs": [
    {
     "name": "stdout",
     "output_type": "stream",
     "text": [
      "Defaulting to user installation because normal site-packages is not writeable\n",
      "Collecting pyhdf\n",
      "  Downloading pyhdf-0.11.3-cp310-cp310-manylinux_2_17_x86_64.manylinux2014_x86_64.whl.metadata (2.8 kB)\n",
      "Downloading pyhdf-0.11.3-cp310-cp310-manylinux_2_17_x86_64.manylinux2014_x86_64.whl (771 kB)\n",
      "\u001b[2K   \u001b[38;2;114;156;31m━━━━━━━━━━━━━━━━━━━━━━━━━━━━━━━━━━━━━━━\u001b[0m \u001b[32m771.4/771.4 kB\u001b[0m \u001b[31m651.9 kB/s\u001b[0m eta \u001b[36m0:00:00\u001b[0m1m643.7 kB/s\u001b[0m eta \u001b[36m0:00:01\u001b[0m\n",
      "\u001b[?25hInstalling collected packages: pyhdf\n",
      "Successfully installed pyhdf-0.11.3\n",
      "Note: you may need to restart the kernel to use updated packages.\n"
     ]
    }
   ],
   "source": [
    "%pip install pyhdf"
   ]
  },
  {
   "cell_type": "code",
   "execution_count": null,
   "id": "f88e1a1e-1f45-4eaa-acb7-d377186bc4c8",
   "metadata": {},
   "outputs": [],
   "source": [
    "from pyhdf import SD\n",
    "\n",
    "def read_hdf_file(file_path):\n",
    "    file = SD(file_path, SD.SDC.READ)"
   ]
  }
 ],
 "metadata": {
  "kernelspec": {
   "display_name": "Python 3 (ipykernel)",
   "language": "python",
   "name": "python3"
  },
  "language_info": {
   "codemirror_mode": {
    "name": "ipython",
    "version": 3
   },
   "file_extension": ".py",
   "mimetype": "text/x-python",
   "name": "python",
   "nbconvert_exporter": "python",
   "pygments_lexer": "ipython3",
   "version": "3.10.12"
  }
 },
 "nbformat": 4,
 "nbformat_minor": 5
}
