{
 "cells": [
  {
   "cell_type": "code",
   "execution_count": 3,
   "id": "cd1f729d-faeb-4d96-a3c4-b0c26ba13f78",
   "metadata": {},
   "outputs": [],
   "source": [
    "import numpy as np\n",
    "from pyhdf import SD\n",
    "import os"
   ]
  },
  {
   "cell_type": "code",
   "execution_count": 34,
   "id": "6cc014d3-a9f8-4136-906f-2d2e64476eb0",
   "metadata": {},
   "outputs": [],
   "source": [
    "ndvi_dir_path = \"../ndvi/raw\"\n",
    "ndvi_file_path = \"MOD13A1.A2023{}.{}\"\n",
    "ndvi_dest_path = \"../ndvi/refined/ndvi_{}_{}.npy\"\n",
    "\n",
    "lst_dir_path = \"../landsurftemp/raw\"\n",
    "lst_file_path = \"MOD11A2.A2023{}.{}\"\n",
    "lst_dest_path = \"../landsurftemp/refined/lst_{}_{}.npy\"\n",
    "\n",
    "leafcover_dir_path = \"../leafcover/raw\"\n",
    "leafcover_file_path = \"MCD15A3H.A2023{}.{}\"\n",
    "leafcover_dest_path = \"../leafcover/refined/leafcover_{}_{}.npy\""
   ]
  },
  {
   "cell_type": "code",
   "execution_count": null,
   "id": "29243fa1-9afa-483c-aea8-fcc7ff7d2919",
   "metadata": {},
   "outputs": [],
   "source": []
  },
  {
   "cell_type": "code",
   "execution_count": 35,
   "id": "091132e5-f7f6-4fe9-ab09-68ff793aca68",
   "metadata": {},
   "outputs": [
    {
     "name": "stdout",
     "output_type": "stream",
     "text": [
      "84\n",
      "\n",
      "172\n",
      "\n",
      "341\n"
     ]
    }
   ],
   "source": [
    "ndvi_files = os.listdir(ndvi_dir_path)\n",
    "lst_files = os.listdir(lst_dir_path)\n",
    "leafcover_files = os.listdir(leafcover_dir_path)\n",
    "\n",
    "print(len(ndvi_files))\n",
    "print()\n",
    "\n",
    "print(len(lst_files))\n",
    "print()\n",
    "\n",
    "print(len(leafcover_files))"
   ]
  },
  {
   "cell_type": "markdown",
   "id": "a6b38d7e-c37a-4dd8-b0f5-34de352d19f6",
   "metadata": {},
   "source": [
    "## LC, Ndvi and LST files are 341, 88 and 172 each\n",
    "\n",
    "LC has 4 day difference and start from \"009 and go till 345\"\n",
    "NDVI has 16 day difference and start from \"001\"\n",
    "LST has 8 day different and start from \"001\"\n",
    "\n",
    "they go all the way to 321 and 337 respectively\n"
   ]
  },
  {
   "cell_type": "code",
   "execution_count": 36,
   "id": "19e6af3b-6d94-4440-9306-57e1730b85b5",
   "metadata": {},
   "outputs": [],
   "source": [
    "NDVI_end = 321\n",
    "LST_end = 337\n",
    "LC_end = 345"
   ]
  },
  {
   "cell_type": "code",
   "execution_count": 42,
   "id": "66fbf69c-e665-4550-9b33-a9f8443d64ec",
   "metadata": {},
   "outputs": [
    {
     "name": "stdout",
     "output_type": "stream",
     "text": [
      "84 172\n"
     ]
    }
   ],
   "source": [
    "NDVI_numbers = [f\"{num:03d}\" for num in range(1, NDVI_end+1, 16)]\n",
    "LST_numbers = [f\"{num:03d}\" for num in range(1, LST_end+1, 8)]\n",
    "LC_numbers = [f\"{num:03d}\" for num in range(9, LC_end+1, 4)]\n",
    "print(len(NDVI_numbers)*4, len(LST_numbers)*4)"
   ]
  },
  {
   "cell_type": "code",
   "execution_count": 38,
   "id": "3db17792-1b1b-47ac-946c-43a68235cbba",
   "metadata": {},
   "outputs": [],
   "source": [
    "file_indexes = [\"h23v05\", \"h23v06\", \"h24v05\", \"h24v06\"]"
   ]
  },
  {
   "cell_type": "code",
   "execution_count": 32,
   "id": "dc903d97-84e7-4fbc-b3ad-f846152bbf15",
   "metadata": {},
   "outputs": [
    {
     "name": "stdout",
     "output_type": "stream",
     "text": [
      "MOD13A1.A2023001.h23v05\n",
      "MOD13A1.A2023001.h23v05.061.2023019192648.hdf\n",
      "MOD13A1.A2023017.h23v05\n",
      "MOD13A1.A2023017.h23v05.061.2023034180426.hdf\n",
      "MOD13A1.A2023033.h23v05\n",
      "MOD13A1.A2023033.h23v05.061.2023054044209.hdf\n",
      "MOD13A1.A2023049.h23v05\n",
      "MOD13A1.A2023049.h23v05.061.2023070133509.hdf\n",
      "MOD13A1.A2023065.h23v05\n",
      "MOD13A1.A2023065.h23v05.061.2023082002921.hdf\n",
      "MOD13A1.A2023081.h23v05\n",
      "MOD13A1.A2023081.h23v05.061.2023100010639.hdf\n",
      "MOD13A1.A2023097.h23v05\n",
      "MOD13A1.A2023097.h23v05.061.2023114114832.hdf\n",
      "MOD13A1.A2023113.h23v05\n",
      "MOD13A1.A2023113.h23v05.061.2023130000725.hdf\n",
      "MOD13A1.A2023129.h23v05\n",
      "MOD13A1.A2023129.h23v05.061.2023146132559.hdf\n",
      "MOD13A1.A2023145.h23v05\n",
      "MOD13A1.A2023145.h23v05.061.2023164003344.hdf\n",
      "MOD13A1.A2023161.h23v05\n",
      "MOD13A1.A2023161.h23v05.061.2023177233018.hdf\n",
      "MOD13A1.A2023177.h23v05\n",
      "MOD13A1.A2023177.h23v05.061.2023201055213.hdf\n",
      "MOD13A1.A2023193.h23v05\n",
      "MOD13A1.A2023193.h23v05.061.2023215110121.hdf\n",
      "MOD13A1.A2023209.h23v05\n",
      "MOD13A1.A2023209.h23v05.061.2023226000634.hdf\n",
      "MOD13A1.A2023225.h23v05\n",
      "MOD13A1.A2023225.h23v05.061.2023242000146.hdf\n",
      "MOD13A1.A2023241.h23v05\n",
      "MOD13A1.A2023241.h23v05.061.2023257235729.hdf\n",
      "MOD13A1.A2023257.h23v05\n",
      "MOD13A1.A2023257.h23v05.061.2023274001433.hdf\n",
      "MOD13A1.A2023273.h23v05\n",
      "MOD13A1.A2023273.h23v05.061.2023290140812.hdf\n",
      "MOD13A1.A2023289.h23v05\n",
      "MOD13A1.A2023289.h23v05.061.2023305234717.hdf\n",
      "MOD13A1.A2023305.h23v05\n",
      "MOD13A1.A2023305.h23v05.061.2023322214047.hdf\n",
      "MOD13A1.A2023321.h23v05\n",
      "MOD13A1.A2023321.h23v05.061.2023340004705.hdf\n",
      "MOD13A1.A2023001.h23v06\n",
      "MOD13A1.A2023001.h23v06.061.2023019191837.hdf\n",
      "MOD13A1.A2023017.h23v06\n",
      "MOD13A1.A2023017.h23v06.061.2023034172059.hdf\n",
      "MOD13A1.A2023033.h23v06\n",
      "MOD13A1.A2023033.h23v06.061.2023054042554.hdf\n",
      "MOD13A1.A2023049.h23v06\n",
      "MOD13A1.A2023049.h23v06.061.2023070133416.hdf\n",
      "MOD13A1.A2023065.h23v06\n",
      "MOD13A1.A2023065.h23v06.061.2023082002318.hdf\n",
      "MOD13A1.A2023081.h23v06\n",
      "MOD13A1.A2023081.h23v06.061.2023100010414.hdf\n",
      "MOD13A1.A2023097.h23v06\n",
      "MOD13A1.A2023097.h23v06.061.2023115121154.hdf\n",
      "MOD13A1.A2023113.h23v06\n",
      "MOD13A1.A2023113.h23v06.061.2023129235826.hdf\n",
      "MOD13A1.A2023129.h23v06\n",
      "MOD13A1.A2023129.h23v06.061.2023146132450.hdf\n",
      "MOD13A1.A2023145.h23v06\n",
      "MOD13A1.A2023145.h23v06.061.2023164001506.hdf\n",
      "MOD13A1.A2023161.h23v06\n",
      "MOD13A1.A2023161.h23v06.061.2023177232848.hdf\n",
      "MOD13A1.A2023177.h23v06\n",
      "MOD13A1.A2023177.h23v06.061.2023201051120.hdf\n",
      "MOD13A1.A2023193.h23v06\n",
      "MOD13A1.A2023193.h23v06.061.2023215104942.hdf\n",
      "MOD13A1.A2023209.h23v06\n",
      "MOD13A1.A2023209.h23v06.061.2023226000320.hdf\n",
      "MOD13A1.A2023225.h23v06\n",
      "MOD13A1.A2023225.h23v06.061.2023242000022.hdf\n",
      "MOD13A1.A2023241.h23v06\n",
      "MOD13A1.A2023241.h23v06.061.2023258001813.hdf\n",
      "MOD13A1.A2023257.h23v06\n",
      "MOD13A1.A2023257.h23v06.061.2023274000717.hdf\n",
      "MOD13A1.A2023273.h23v06\n",
      "MOD13A1.A2023273.h23v06.061.2023290140703.hdf\n",
      "MOD13A1.A2023289.h23v06\n",
      "MOD13A1.A2023289.h23v06.061.2023305234916.hdf\n",
      "MOD13A1.A2023305.h23v06\n",
      "MOD13A1.A2023305.h23v06.061.2023322213205.hdf\n",
      "MOD13A1.A2023321.h23v06\n",
      "MOD13A1.A2023321.h23v06.061.2023340005019.hdf\n",
      "MOD13A1.A2023001.h24v05\n",
      "MOD13A1.A2023001.h24v05.061.2023019191842.hdf\n",
      "MOD13A1.A2023017.h24v05\n",
      "MOD13A1.A2023017.h24v05.061.2023034172502.hdf\n",
      "MOD13A1.A2023033.h24v05\n",
      "MOD13A1.A2023033.h24v05.061.2023054042802.hdf\n",
      "MOD13A1.A2023049.h24v05\n",
      "MOD13A1.A2023049.h24v05.061.2023070140009.hdf\n",
      "MOD13A1.A2023065.h24v05\n",
      "MOD13A1.A2023065.h24v05.061.2023082003453.hdf\n",
      "MOD13A1.A2023081.h24v05\n",
      "MOD13A1.A2023081.h24v05.061.2023100010931.hdf\n",
      "MOD13A1.A2023097.h24v05\n",
      "MOD13A1.A2023097.h24v05.061.2023114114832.hdf\n",
      "MOD13A1.A2023113.h24v05\n",
      "MOD13A1.A2023113.h24v05.061.2023130000042.hdf\n",
      "MOD13A1.A2023129.h24v05\n",
      "MOD13A1.A2023129.h24v05.061.2023146132541.hdf\n",
      "MOD13A1.A2023145.h24v05\n",
      "MOD13A1.A2023145.h24v05.061.2023164004107.hdf\n",
      "MOD13A1.A2023161.h24v05\n",
      "MOD13A1.A2023161.h24v05.061.2023177232817.hdf\n",
      "MOD13A1.A2023177.h24v05\n",
      "MOD13A1.A2023177.h24v05.061.2023201054202.hdf\n",
      "MOD13A1.A2023193.h24v05\n",
      "MOD13A1.A2023193.h24v05.061.2023215105804.hdf\n",
      "MOD13A1.A2023209.h24v05\n",
      "MOD13A1.A2023209.h24v05.061.2023226000907.hdf\n",
      "MOD13A1.A2023225.h24v05\n",
      "MOD13A1.A2023225.h24v05.061.2023242001020.hdf\n",
      "MOD13A1.A2023241.h24v05\n",
      "MOD13A1.A2023241.h24v05.061.2023258002322.hdf\n",
      "MOD13A1.A2023257.h24v05\n",
      "MOD13A1.A2023257.h24v05.061.2023274002404.hdf\n",
      "MOD13A1.A2023273.h24v05\n",
      "MOD13A1.A2023273.h24v05.061.2023290140644.hdf\n",
      "MOD13A1.A2023289.h24v05\n",
      "MOD13A1.A2023289.h24v05.061.2023305235447.hdf\n",
      "MOD13A1.A2023305.h24v05\n",
      "MOD13A1.A2023305.h24v05.061.2023322213703.hdf\n",
      "MOD13A1.A2023321.h24v05\n",
      "MOD13A1.A2023321.h24v05.061.2023340004641.hdf\n",
      "MOD13A1.A2023001.h24v06\n",
      "MOD13A1.A2023001.h24v06.061.2023019191829.hdf\n",
      "MOD13A1.A2023017.h24v06\n",
      "MOD13A1.A2023017.h24v06.061.2023034172500.hdf\n",
      "MOD13A1.A2023033.h24v06\n",
      "MOD13A1.A2023033.h24v06.061.2023054042640.hdf\n",
      "MOD13A1.A2023049.h24v06\n",
      "MOD13A1.A2023049.h24v06.061.2023070133417.hdf\n",
      "MOD13A1.A2023065.h24v06\n",
      "MOD13A1.A2023065.h24v06.061.2023082002830.hdf\n",
      "MOD13A1.A2023081.h24v06\n",
      "MOD13A1.A2023081.h24v06.061.2023100010555.hdf\n",
      "MOD13A1.A2023097.h24v06\n",
      "MOD13A1.A2023097.h24v06.061.2023115121457.hdf\n",
      "MOD13A1.A2023113.h24v06\n",
      "MOD13A1.A2023113.h24v06.061.2023129235820.hdf\n",
      "MOD13A1.A2023129.h24v06\n",
      "MOD13A1.A2023129.h24v06.061.2023146132211.hdf\n",
      "MOD13A1.A2023145.h24v06\n",
      "MOD13A1.A2023145.h24v06.061.2023164011815.hdf\n",
      "MOD13A1.A2023161.h24v06\n",
      "MOD13A1.A2023161.h24v06.061.2023177232138.hdf\n",
      "MOD13A1.A2023177.h24v06\n",
      "MOD13A1.A2023177.h24v06.061.2023201053244.hdf\n",
      "MOD13A1.A2023193.h24v06\n",
      "MOD13A1.A2023193.h24v06.061.2023215104706.hdf\n",
      "MOD13A1.A2023209.h24v06\n",
      "MOD13A1.A2023209.h24v06.061.2023226000314.hdf\n",
      "MOD13A1.A2023225.h24v06\n",
      "MOD13A1.A2023225.h24v06.061.2023242001245.hdf\n",
      "MOD13A1.A2023241.h24v06\n",
      "MOD13A1.A2023241.h24v06.061.2023258002256.hdf\n",
      "MOD13A1.A2023257.h24v06\n",
      "MOD13A1.A2023257.h24v06.061.2023274001007.hdf\n",
      "MOD13A1.A2023273.h24v06\n",
      "MOD13A1.A2023273.h24v06.061.2023290140656.hdf\n",
      "MOD13A1.A2023289.h24v06\n",
      "MOD13A1.A2023289.h24v06.061.2023305235443.hdf\n",
      "MOD13A1.A2023305.h24v06\n",
      "MOD13A1.A2023305.h24v06.061.2023322213159.hdf\n",
      "MOD13A1.A2023321.h24v06\n",
      "MOD13A1.A2023321.h24v06.061.2023340004632.hdf\n"
     ]
    }
   ],
   "source": [
    "for each_index in file_indexes:\n",
    "    for each_date in NDVI_numbers:\n",
    "        ndvi_file_curr = ndvi_file_path.format(each_date, each_index)\n",
    "        print(ndvi_file_curr)\n",
    "        ndvi_file = [file for file in ndvi_files if file.startswith(ndvi_file_curr)][0]\n",
    "        print(ndvi_file)\n",
    "        hdf_file = SD.SD(os.path.join(ndvi_dir_path,ndvi_file), SD.SDC.READ)\n",
    "        dataset = hdf_file.select(\"500m 16 days NDVI\")\n",
    "        data_ndvi = dataset.get()\n",
    "        np.save(ndvi_dest_path.format(each_date, each_index), data_ndvi)"
   ]
  },
  {
   "cell_type": "code",
   "execution_count": 33,
   "id": "f32ffa01-6756-4cfb-996b-7349e8f429a2",
   "metadata": {},
   "outputs": [],
   "source": [
    "for each_index in file_indexes:\n",
    "    for each_date in LST_numbers:\n",
    "        lst_file_curr = lst_file_path.format(each_date, each_index)\n",
    "        lst_file = [file for file in lst_files if file.startswith(lst_file_curr)][0]\n",
    "        hdf_file = SD.SD(os.path.join(lst_dir_path,lst_file), SD.SDC.READ)\n",
    "        dataset = hdf_file.select(\"LST_Day_1km\")\n",
    "        data_lst = dataset.get()\n",
    "        np.save(lst_dest_path.format(each_date, each_index), data_lst)"
   ]
  },
  {
   "cell_type": "code",
   "execution_count": 43,
   "id": "5373f2dd-3ed2-49dc-915e-a4bd15880e6d",
   "metadata": {},
   "outputs": [],
   "source": [
    "for each_index in file_indexes:\n",
    "    for each_date in LC_numbers:\n",
    "        leafcover_file_curr = leafcover_file_path.format(each_date, each_index)\n",
    "        leafcover_file = [file for file in leafcover_files if file.startswith(leafcover_file_curr)][0]\n",
    "        hdf_file = SD.SD(os.path.join(leafcover_dir_path,leafcover_file), SD.SDC.READ)\n",
    "        dataset = hdf_file.select(\"Lai_500m\")\n",
    "        data_leafcover = dataset.get()\n",
    "        np.save(leafcover_dest_path.format(each_date, each_index), data_leafcover)"
   ]
  },
  {
   "cell_type": "markdown",
   "id": "20a66e81-8084-4d4a-aa4e-bc7d04f6f8ae",
   "metadata": {},
   "source": [
    "NDVI and LST are now saved in numpy format that can be accessed, we will continue to make functions to access them here:"
   ]
  },
  {
   "cell_type": "code",
   "execution_count": 93,
   "id": "fff69e62-7d67-40ea-be4c-6b2ba868e3b4",
   "metadata": {},
   "outputs": [],
   "source": [
    "def get_ndvi(x, y, file_index):\n",
    "    if not (0 < x < 1200 and 0 < y < 1200):\n",
    "        raise ValueError(\"Invalid range of coordinates provided\")\n",
    "    ndvi_data = np.load(ndvi_dest_path.format(file_index))\n",
    "    return ndvi_data[x, y]*0.0001"
   ]
  },
  {
   "cell_type": "code",
   "execution_count": 94,
   "id": "4a9b1439-b713-4b41-8a1d-aa4dd79c959d",
   "metadata": {},
   "outputs": [],
   "source": [
    "def get_lst(x, y, file_index):\n",
    "    if not (0 < x < 1200 and 0 < y < 1200):\n",
    "        raise ValueError(\"Invalid range of coordinates provided\")\n",
    "    lst_data = np.load(lst_dest_path.format(file_index))\n",
    "    return lst_data[x, y] * 0.021"
   ]
  },
  {
   "cell_type": "code",
   "execution_count": 24,
   "id": "dcf1e574-ab81-4374-9464-189d6482c753",
   "metadata": {},
   "outputs": [],
   "source": [
    "from datetime import datetime"
   ]
  },
  {
   "cell_type": "code",
   "execution_count": 59,
   "id": "dbd07622-c4d8-4a67-ae03-4d7fd4e62f6f",
   "metadata": {},
   "outputs": [],
   "source": [
    "def day_of_year(date_string):\n",
    "    date_format = \"%Y-%m-%d\"  # Adjust the format according to your date input\n",
    "    date_object = datetime.strptime(date_string, date_format)\n",
    "    \n",
    "    # Get the day of the year\n",
    "    day_of_year = date_object.timetuple().tm_yday\n",
    "    \n",
    "    return f\"{day_of_year:03d}\""
   ]
  },
  {
   "cell_type": "code",
   "execution_count": 60,
   "id": "c6e99d11-5692-41c7-bd28-ae3bd3b0a3d9",
   "metadata": {},
   "outputs": [
    {
     "data": {
      "text/plain": [
       "'307'"
      ]
     },
     "execution_count": 60,
     "metadata": {},
     "output_type": "execute_result"
    }
   ],
   "source": [
    "day_of_year(\"2023-11-3\")"
   ]
  },
  {
   "cell_type": "code",
   "execution_count": 45,
   "id": "7b00a78e-e908-4f4b-aeb9-7952a69bb0d6",
   "metadata": {},
   "outputs": [],
   "source": [
    "def return_coordinates(long, lat, resolution):\n",
    "    \n",
    "    total_points = 1200/resolution\n",
    "\n",
    "    tile = \"\"\n",
    "\n",
    "    for each in TILEVH.keys():\n",
    "        if long > TILEVH[each][0][0] and long < TILEVH[each][0][1] and lat > TILEVH[each][1][0] and lat < TILEVH[each][1][1]:\n",
    "            tile = each\n",
    "            break\n",
    "    \n",
    "    if tile == \"\":\n",
    "        raise ValueError(\"Long and Latitudes are incorrect please provide again in order (long, lat)\")\n",
    "\n",
    "    rel_long = long - TILEVH[tile][0][0]\n",
    "    rel_lat = lat - TILEVH[tile][1][0]\n",
    "    long_dist = TILEVH[tile][0][1] - TILEVH[tile][0][0]\n",
    "    lat_dist = TILEVH[tile][1][1] - TILEVH[tile][1][0]\n",
    "\n",
    "    x = floor((rel_long/long_dist) * total_points)\n",
    "    y = floor((rel_lat/lat_dist) * total_points)\n",
    "\n",
    "    return (x, y, tile)"
   ]
  },
  {
   "cell_type": "code",
   "execution_count": 49,
   "id": "54023c34-122b-4f4b-a7b7-be674b761081",
   "metadata": {},
   "outputs": [],
   "source": [
    "TILEVH = {\n",
    "    'h23v05': [(57.7350,    78.3353),   (30.0000,   40.0000)],\n",
    "    'h23v06': [(53.2089,    69.2917),   (20.0000,   30.0000)],\n",
    "    'h24v05': [(69.2820,    91.3894),   (30.0000,   40.0000)],\n",
    "    'h24v06': [(63.8507,    80.8387),   (20.0000,   30.0000)],\n",
    "}\n",
    "\n",
    "\n",
    "from math import floor\n"
   ]
  },
  {
   "cell_type": "code",
   "execution_count": 57,
   "id": "b259779a-69fa-4e8d-801f-41263f4a53f7",
   "metadata": {},
   "outputs": [],
   "source": [
    "checking_coord = (32.581111, 72.2138889)"
   ]
  },
  {
   "cell_type": "code",
   "execution_count": 58,
   "id": "f3000116-7627-4c76-b371-148d244f5a94",
   "metadata": {},
   "outputs": [
    {
     "data": {
      "text/plain": [
       "(1686, 619, 'h23v05')"
      ]
     },
     "execution_count": 58,
     "metadata": {},
     "output_type": "execute_result"
    }
   ],
   "source": [
    "return_coordinates(checking_coord[1], checking_coord[0], 0.5)"
   ]
  },
  {
   "cell_type": "code",
   "execution_count": 63,
   "id": "16da0dcc-e574-4d20-8685-dbb0abda3c0d",
   "metadata": {},
   "outputs": [],
   "source": [
    "NDVI_nums = [num for num in range(1, NDVI_end+1, 16)]\n",
    "LST_nums = [num for num in range(1, LST_end+1, 8)]\n",
    "LC_nums = [num for num in range(9, LC_end+1, 4)]"
   ]
  },
  {
   "cell_type": "code",
   "execution_count": 65,
   "id": "8ba8246c-9f53-451e-b6cb-34941504244f",
   "metadata": {},
   "outputs": [],
   "source": [
    "# keeping the file_path while keeping empty space to get data later\n",
    "ndvi_dest_path = \"../ndvi/refine/ndvi_{}_{}.npy\"\n",
    "lst_dest_path = \"../landsurftemp/refine/lst_{}_{}.npy\""
   ]
  },
  {
   "cell_type": "code",
   "execution_count": 72,
   "id": "7ade2055-7e1c-47d2-972a-cdcb62ab6a32",
   "metadata": {},
   "outputs": [],
   "source": [
    "def get_ndvi_xy(x, y, file_index, day):\n",
    "    if not (0 < x < 2400 and 0 < y < 2400):\n",
    "        raise ValueError(\"Invalid range of coordinates provided\")\n",
    "    day = f\"{day:03d}\"\n",
    "    ndvi_data = np.load(ndvi_dest_path.format(day, file_index))\n",
    "    return ndvi_data[x, y]*0.0001\n",
    "\n",
    "def get_lst_xy(x, y, file_index, day):\n",
    "    if not (0 < x < 1200 and 0 < y < 1200):\n",
    "        raise ValueError(\"Invalid range of coordinates provided\")\n",
    "    day = f\"{day:03d}\"\n",
    "    lst_data = np.load(lst_dest_path.format(day, file_index))\n",
    "    return lst_data[x, y] * 0.021\n",
    "\n",
    "def get_ndvi(long , lat, date):\n",
    "    x, y, file_index = return_coordinates(long, lat, 0.5)\n",
    "    day = day_of_year(date)\n",
    "    day = np.searchsorted(NDVI_nums, day)\n",
    "    return get_ndvi_xy(x, y, file_index, day)\n",
    "\n",
    "\n",
    "def get_lst(long, lat, date):\n",
    "    x, y, file_index = return_coordinates(long, lat, 1)\n",
    "    day = day_of_year(date)\n",
    "    print(day)\n",
    "    day = np.searchsorted(NDVI_nums, day)\n",
    "    print(day)\n",
    "    return get_lst_xy(x, y, file_index, day)"
   ]
  },
  {
   "cell_type": "code",
   "execution_count": 73,
   "id": "6cfe655d-e43f-4d39-9f97-258020b5ae77",
   "metadata": {},
   "outputs": [
    {
     "name": "stdout",
     "output_type": "stream",
     "text": [
      "064\n",
      "0\n"
     ]
    },
    {
     "ename": "FileNotFoundError",
     "evalue": "[Errno 2] No such file or directory: '../landsurftemp/refine/lst_000_h23v05.npy'",
     "output_type": "error",
     "traceback": [
      "\u001b[0;31m---------------------------------------------------------------------------\u001b[0m",
      "\u001b[0;31mFileNotFoundError\u001b[0m                         Traceback (most recent call last)",
      "Cell \u001b[0;32mIn[73], line 1\u001b[0m\n\u001b[0;32m----> 1\u001b[0m \u001b[43mget_lst\u001b[49m\u001b[43m(\u001b[49m\u001b[43mchecking_coord\u001b[49m\u001b[43m[\u001b[49m\u001b[38;5;241;43m1\u001b[39;49m\u001b[43m]\u001b[49m\u001b[43m,\u001b[49m\u001b[43m \u001b[49m\u001b[43mchecking_coord\u001b[49m\u001b[43m[\u001b[49m\u001b[38;5;241;43m0\u001b[39;49m\u001b[43m]\u001b[49m\u001b[43m,\u001b[49m\u001b[43m \u001b[49m\u001b[38;5;124;43m\"\u001b[39;49m\u001b[38;5;124;43m2023-03-05\u001b[39;49m\u001b[38;5;124;43m\"\u001b[39;49m\u001b[43m)\u001b[49m\n",
      "Cell \u001b[0;32mIn[72], line 29\u001b[0m, in \u001b[0;36mget_lst\u001b[0;34m(long, lat, date)\u001b[0m\n\u001b[1;32m     27\u001b[0m day \u001b[38;5;241m=\u001b[39m np\u001b[38;5;241m.\u001b[39msearchsorted(NDVI_nums, day)\n\u001b[1;32m     28\u001b[0m \u001b[38;5;28mprint\u001b[39m(day)\n\u001b[0;32m---> 29\u001b[0m \u001b[38;5;28;01mreturn\u001b[39;00m \u001b[43mget_lst_xy\u001b[49m\u001b[43m(\u001b[49m\u001b[43mx\u001b[49m\u001b[43m,\u001b[49m\u001b[43m \u001b[49m\u001b[43my\u001b[49m\u001b[43m,\u001b[49m\u001b[43m \u001b[49m\u001b[43mfile_index\u001b[49m\u001b[43m,\u001b[49m\u001b[43m \u001b[49m\u001b[43mday\u001b[49m\u001b[43m)\u001b[49m\n",
      "Cell \u001b[0;32mIn[72], line 12\u001b[0m, in \u001b[0;36mget_lst_xy\u001b[0;34m(x, y, file_index, day)\u001b[0m\n\u001b[1;32m     10\u001b[0m     \u001b[38;5;28;01mraise\u001b[39;00m \u001b[38;5;167;01mValueError\u001b[39;00m(\u001b[38;5;124m\"\u001b[39m\u001b[38;5;124mInvalid range of coordinates provided\u001b[39m\u001b[38;5;124m\"\u001b[39m)\n\u001b[1;32m     11\u001b[0m day \u001b[38;5;241m=\u001b[39m \u001b[38;5;124mf\u001b[39m\u001b[38;5;124m\"\u001b[39m\u001b[38;5;132;01m{\u001b[39;00mday\u001b[38;5;132;01m:\u001b[39;00m\u001b[38;5;124m03d\u001b[39m\u001b[38;5;132;01m}\u001b[39;00m\u001b[38;5;124m\"\u001b[39m\n\u001b[0;32m---> 12\u001b[0m lst_data \u001b[38;5;241m=\u001b[39m \u001b[43mnp\u001b[49m\u001b[38;5;241;43m.\u001b[39;49m\u001b[43mload\u001b[49m\u001b[43m(\u001b[49m\u001b[43mlst_dest_path\u001b[49m\u001b[38;5;241;43m.\u001b[39;49m\u001b[43mformat\u001b[49m\u001b[43m(\u001b[49m\u001b[43mday\u001b[49m\u001b[43m,\u001b[49m\u001b[43m \u001b[49m\u001b[43mfile_index\u001b[49m\u001b[43m)\u001b[49m\u001b[43m)\u001b[49m\n\u001b[1;32m     13\u001b[0m \u001b[38;5;28;01mreturn\u001b[39;00m lst_data[x, y] \u001b[38;5;241m*\u001b[39m \u001b[38;5;241m0.021\u001b[39m\n",
      "File \u001b[0;32m~/.local/lib/python3.10/site-packages/numpy/lib/npyio.py:427\u001b[0m, in \u001b[0;36mload\u001b[0;34m(file, mmap_mode, allow_pickle, fix_imports, encoding, max_header_size)\u001b[0m\n\u001b[1;32m    425\u001b[0m     own_fid \u001b[38;5;241m=\u001b[39m \u001b[38;5;28;01mFalse\u001b[39;00m\n\u001b[1;32m    426\u001b[0m \u001b[38;5;28;01melse\u001b[39;00m:\n\u001b[0;32m--> 427\u001b[0m     fid \u001b[38;5;241m=\u001b[39m stack\u001b[38;5;241m.\u001b[39menter_context(\u001b[38;5;28;43mopen\u001b[39;49m\u001b[43m(\u001b[49m\u001b[43mos_fspath\u001b[49m\u001b[43m(\u001b[49m\u001b[43mfile\u001b[49m\u001b[43m)\u001b[49m\u001b[43m,\u001b[49m\u001b[43m \u001b[49m\u001b[38;5;124;43m\"\u001b[39;49m\u001b[38;5;124;43mrb\u001b[39;49m\u001b[38;5;124;43m\"\u001b[39;49m\u001b[43m)\u001b[49m)\n\u001b[1;32m    428\u001b[0m     own_fid \u001b[38;5;241m=\u001b[39m \u001b[38;5;28;01mTrue\u001b[39;00m\n\u001b[1;32m    430\u001b[0m \u001b[38;5;66;03m# Code to distinguish from NumPy binary files and pickles.\u001b[39;00m\n",
      "\u001b[0;31mFileNotFoundError\u001b[0m: [Errno 2] No such file or directory: '../landsurftemp/refine/lst_000_h23v05.npy'"
     ]
    }
   ],
   "source": [
    "get_lst(checking_coord[1], checking_coord[0], \"2023-03-05\")"
   ]
  },
  {
   "cell_type": "code",
   "execution_count": null,
   "id": "ecc1fda0-6f40-4e4d-843e-b6c970fb4322",
   "metadata": {},
   "outputs": [],
   "source": []
  }
 ],
 "metadata": {
  "kernelspec": {
   "display_name": "Python 3 (ipykernel)",
   "language": "python",
   "name": "python3"
  },
  "language_info": {
   "codemirror_mode": {
    "name": "ipython",
    "version": 3
   },
   "file_extension": ".py",
   "mimetype": "text/x-python",
   "name": "python",
   "nbconvert_exporter": "python",
   "pygments_lexer": "ipython3",
   "version": "3.10.12"
  }
 },
 "nbformat": 4,
 "nbformat_minor": 5
}
