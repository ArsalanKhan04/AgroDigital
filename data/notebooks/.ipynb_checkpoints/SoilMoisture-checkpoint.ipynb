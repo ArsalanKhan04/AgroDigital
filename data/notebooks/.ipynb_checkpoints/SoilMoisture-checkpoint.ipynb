{
 "cells": [
  {
   "cell_type": "markdown",
   "id": "b168080c-3ae6-416d-a008-a5bcbeccd076",
   "metadata": {},
   "source": [
    "## Getting Soil Moisture"
   ]
  },
  {
   "cell_type": "code",
   "execution_count": 22,
   "id": "82973f39-6657-4631-9585-c20207702988",
   "metadata": {},
   "outputs": [],
   "source": [
    "import netCDF4 as nc\n",
    "import os\n",
    "import numpy as np"
   ]
  },
  {
   "cell_type": "code",
   "execution_count": 4,
   "id": "fd35727f-7ff6-440e-be98-e958d0496c72",
   "metadata": {},
   "outputs": [],
   "source": [
    "file_path = r\"../soilmoisture/FLDAS_NOAHMP001_G_CA_D.A20231215.001.nc\"\n",
    "dataset = nc.Dataset(file_path, 'r')"
   ]
  },
  {
   "cell_type": "code",
   "execution_count": 7,
   "id": "b9b3a60e-a29e-4092-8d69-b149640e9d52",
   "metadata": {},
   "outputs": [
    {
     "data": {
      "text/plain": [
       "<class 'netCDF4._netCDF4.Dataset'>\n",
       "root group (NETCDF4 data model, file format HDF5):\n",
       "    institution: NASA GSFC\n",
       "    missing_value: -9999.0\n",
       "    MAP_PROJECTION: EQUIDISTANT CYLINDRICAL\n",
       "    DX: 0.01\n",
       "    DY: 0.01\n",
       "    ShortName: FLDAS_NOAHMP001_G_CA_D\n",
       "    LongName: FLDAS Noah-MP GDAS Land Surface Model for Central Asia\n",
       "    title: FLDAS Noah-MP GDAS Land Surface Model for Central Asia\n",
       "    VersionID: 001\n",
       "    GranuleID: FLDAS_NOAHMP001_G_CA_D.A20231215.001.nc\n",
       "    Format: netCDF\n",
       "    RangeBeginningDate: 2023-12-15\n",
       "    RangeBeginningTime: 00:00:00\n",
       "    RangeEndingDate: 2023-12-16\n",
       "    RangeEndingTime: 00:00:00\n",
       "    IdentifierProductDOIAuthority: http://doi.org/\n",
       "    IdentifierProductDOI: 10.5067/C4IOYF41EEZB\n",
       "    ProductionDateTime: 2023-12-16T00:30:00Z\n",
       "    ProcessingLevel: Level 4\n",
       "    DataSetQuality: see McNally_etal_ESD_2022; https://doi.org/10.5194/essd-14-3115-2022\n",
       "    Source: NASA Land Information System (LIS)\n",
       "    references: McNally_etal_ESD_2022; https://doi.org/10.5194/essd-14-3115-2022\n",
       "    website: https://ldas.gsfc.nasa.gov/fldas\n",
       "    history: created on date: 2023-12-16T00:30:00Z\n",
       "    Conventions: CF-1.10\n",
       "    SouthernmostLatitude: 21.005f\n",
       "    WesternmostLongitude: 30.005f\n",
       "    NorthernmostLatitude: 55.995f\n",
       "    EasternmostLongitude: 99.995f\n",
       "    dimensions(sizes): bnds(2), time(1), lon(7000), lat(3500)\n",
       "    variables(dimensions): float64 time(time), float32 lon(lon), float32 lat(lat), float32 Swnet_tavg(time, lat, lon), float32 Snowf_tavg(time, lat, lon), float32 Rainf_tavg(time, lat, lon), float32 Evap_tavg(time, lat, lon), float32 Qs_tavg(time, lat, lon), float32 Qsb_tavg(time, lat, lon), float32 Qsm_tavg(time, lat, lon), float32 RadT_tavg(time, lat, lon), float32 RadT_tavg_min(time, lat, lon), float32 RadT_tavg_max(time, lat, lon), float32 SWE_inst(time, lat, lon), float32 SnowDepth_inst(time, lat, lon), float32 TWS_tavg(time, lat, lon), float32 Snowcover_inst(time, lat, lon), float32 Rainf_f_tavg(time, lat, lon), float32 Tair_f_tavg(time, lat, lon), float32 Qair_f_tavg(time, lat, lon), float32 Psurf_f_tavg(time, lat, lon), float32 SWdown_f_tavg(time, lat, lon), float32 SoilMoi00_10cm_tavg(time, lat, lon), float32 SoilTemp00_10cm_tavg(time, lat, lon), float32 SoilMoi10_40cm_tavg(time, lat, lon), float32 SoilTemp10_40cm_tavg(time, lat, lon), float32 SoilMoi40_100cm_tavg(time, lat, lon), float32 SoilTemp40_100cm_tavg(time, lat, lon), float32 SoilMoi100_200cm_tavg(time, lat, lon), float32 SoilTemp100_200cm_tavg(time, lat, lon), float64 time_bnds(time, bnds)\n",
       "    groups: "
      ]
     },
     "execution_count": 7,
     "metadata": {},
     "output_type": "execute_result"
    }
   ],
   "source": [
    "dataset"
   ]
  },
  {
   "cell_type": "code",
   "execution_count": 9,
   "id": "40f80125-14b0-4bfa-bcac-87a62a95d8b8",
   "metadata": {
    "scrolled": true
   },
   "outputs": [
    {
     "name": "stdout",
     "output_type": "stream",
     "text": [
      "{'time': <class 'netCDF4._netCDF4.Variable'>\n",
      "float64 time(time)\n",
      "    axis: T\n",
      "    begin_date: 2023-12-15\n",
      "    calendar: proleptic_gregorian\n",
      "    standard_name: time\n",
      "    units: days since 2001-01-01 00:00:00\n",
      "    bounds: time_bnds\n",
      "unlimited dimensions: time\n",
      "current shape = (1,)\n",
      "filling off, 'lon': <class 'netCDF4._netCDF4.Variable'>\n",
      "float32 lon(lon)\n",
      "    standard_name: longitude\n",
      "    long_name: longitude\n",
      "    axis: X\n",
      "    units: degrees_east\n",
      "unlimited dimensions: \n",
      "current shape = (7000,)\n",
      "filling off, 'lat': <class 'netCDF4._netCDF4.Variable'>\n",
      "float32 lat(lat)\n",
      "    standard_name: latitude\n",
      "    long_name: latitude\n",
      "    axis: Y\n",
      "    units: degrees_north\n",
      "unlimited dimensions: \n",
      "current shape = (3500,)\n",
      "filling off, 'Swnet_tavg': <class 'netCDF4._netCDF4.Variable'>\n",
      "float32 Swnet_tavg(time, lat, lon)\n",
      "    standard_name: surface_net_downward_shortwave_flux\n",
      "    long_name: net downward shortwave radiation\n",
      "    units: W m-2\n",
      "    _FillValue: -9999.0\n",
      "    cell_methods: time:mean\n",
      "unlimited dimensions: time\n",
      "current shape = (1, 3500, 7000)\n",
      "filling off, 'Snowf_tavg': <class 'netCDF4._netCDF4.Variable'>\n",
      "float32 Snowf_tavg(time, lat, lon)\n",
      "    standard_name: snowfall_rate\n",
      "    long_name: snowfall rate\n",
      "    units: kg m-2 s-1\n",
      "    _FillValue: -9999.0\n",
      "    cell_methods: time:mean\n",
      "unlimited dimensions: time\n",
      "current shape = (1, 3500, 7000)\n",
      "filling off, 'Rainf_tavg': <class 'netCDF4._netCDF4.Variable'>\n",
      "float32 Rainf_tavg(time, lat, lon)\n",
      "    standard_name: precipitation_rate\n",
      "    long_name: precipitation rate\n",
      "    units: kg m-2 s-1\n",
      "    _FillValue: -9999.0\n",
      "    cell_methods: time:mean\n",
      "unlimited dimensions: time\n",
      "current shape = (1, 3500, 7000)\n",
      "filling off, 'Evap_tavg': <class 'netCDF4._netCDF4.Variable'>\n",
      "float32 Evap_tavg(time, lat, lon)\n",
      "    standard_name: total_evapotranspiration\n",
      "    long_name: total evapotranspiration\n",
      "    units: kg m-2 s-1\n",
      "    _FillValue: -9999.0\n",
      "    cell_methods: time:mean\n",
      "unlimited dimensions: time\n",
      "current shape = (1, 3500, 7000)\n",
      "filling off, 'Qs_tavg': <class 'netCDF4._netCDF4.Variable'>\n",
      "float32 Qs_tavg(time, lat, lon)\n",
      "    long_name: surface runoff\n",
      "    units: kg m-2 s-1\n",
      "    _FillValue: -9999.0\n",
      "    cell_methods: time:mean\n",
      "    standard_name: surface_runoff\n",
      "unlimited dimensions: time\n",
      "current shape = (1, 3500, 7000)\n",
      "filling off, 'Qsb_tavg': <class 'netCDF4._netCDF4.Variable'>\n",
      "float32 Qsb_tavg(time, lat, lon)\n",
      "    units: kg m-2 s-1\n",
      "    _FillValue: -9999.0\n",
      "    cell_methods: time:mean\n",
      "    standard_name: subsurface_runoff\n",
      "    long_name: subsurface runoff\n",
      "unlimited dimensions: time\n",
      "current shape = (1, 3500, 7000)\n",
      "filling off, 'Qsm_tavg': <class 'netCDF4._netCDF4.Variable'>\n",
      "float32 Qsm_tavg(time, lat, lon)\n",
      "    standard_name: snowmelt\n",
      "    long_name: snowmelt\n",
      "    units: kg m-2 s-1\n",
      "    _FillValue: -9999.0\n",
      "    cell_methods: time:mean\n",
      "unlimited dimensions: time\n",
      "current shape = (1, 3500, 7000)\n",
      "filling off, 'RadT_tavg': <class 'netCDF4._netCDF4.Variable'>\n",
      "float32 RadT_tavg(time, lat, lon)\n",
      "    standard_name: surface_radiative_temperature\n",
      "    long_name: surface radiative temperature\n",
      "    units: K\n",
      "    _FillValue: -9999.0\n",
      "    cell_methods: time:mean\n",
      "unlimited dimensions: time\n",
      "current shape = (1, 3500, 7000)\n",
      "filling off, 'RadT_tavg_min': <class 'netCDF4._netCDF4.Variable'>\n",
      "float32 RadT_tavg_min(time, lat, lon)\n",
      "    standard_name: surface_radiative_temperature\n",
      "    units: K\n",
      "    _FillValue: -9999.0\n",
      "    cell_methods: time:mean\n",
      "    long_name: minimum surface radiative temperature\n",
      "unlimited dimensions: time\n",
      "current shape = (1, 3500, 7000)\n",
      "filling off, 'RadT_tavg_max': <class 'netCDF4._netCDF4.Variable'>\n",
      "float32 RadT_tavg_max(time, lat, lon)\n",
      "    standard_name: surface_radiative_temperature\n",
      "    units: K\n",
      "    _FillValue: -9999.0\n",
      "    cell_methods: time:mean\n",
      "    long_name: maximum surface radiative temperature\n",
      "unlimited dimensions: time\n",
      "current shape = (1, 3500, 7000)\n",
      "filling off, 'SWE_inst': <class 'netCDF4._netCDF4.Variable'>\n",
      "float32 SWE_inst(time, lat, lon)\n",
      "    standard_name: liquid_water_content_of_surface_snow\n",
      "    long_name: snow water equivalent\n",
      "    units: kg m-2\n",
      "    _FillValue: -9999.0\n",
      "    cell_methods: time:point\n",
      "unlimited dimensions: time\n",
      "current shape = (1, 3500, 7000)\n",
      "filling off, 'SnowDepth_inst': <class 'netCDF4._netCDF4.Variable'>\n",
      "float32 SnowDepth_inst(time, lat, lon)\n",
      "    standard_name: snow_depth\n",
      "    long_name: snow depth\n",
      "    units: m\n",
      "    _FillValue: -9999.0\n",
      "    cell_methods: time:point\n",
      "unlimited dimensions: time\n",
      "current shape = (1, 3500, 7000)\n",
      "filling off, 'TWS_tavg': <class 'netCDF4._netCDF4.Variable'>\n",
      "float32 TWS_tavg(time, lat, lon)\n",
      "    standard_name: terrestrial_water_storage\n",
      "    long_name: terrestrial water storage\n",
      "    units: mm\n",
      "    _FillValue: -9999.0\n",
      "    cell_methods: time:mean\n",
      "unlimited dimensions: time\n",
      "current shape = (1, 3500, 7000)\n",
      "filling off, 'Snowcover_inst': <class 'netCDF4._netCDF4.Variable'>\n",
      "float32 Snowcover_inst(time, lat, lon)\n",
      "    standard_name: surface_snow_area_fraction\n",
      "    long_name: snow cover\n",
      "    _FillValue: -9999.0\n",
      "    cell_methods: time:point\n",
      "    units: 1\n",
      "unlimited dimensions: time\n",
      "current shape = (1, 3500, 7000)\n",
      "filling off, 'Rainf_f_tavg': <class 'netCDF4._netCDF4.Variable'>\n",
      "float32 Rainf_f_tavg(time, lat, lon)\n",
      "    standard_name: rainfall_flux\n",
      "    long_name: rainfall flux\n",
      "    units: kg m-2 s-1\n",
      "    _FillValue: -9999.0\n",
      "    cell_methods: time:mean\n",
      "unlimited dimensions: time\n",
      "current shape = (1, 3500, 7000)\n",
      "filling off, 'Tair_f_tavg': <class 'netCDF4._netCDF4.Variable'>\n",
      "float32 Tair_f_tavg(time, lat, lon)\n",
      "    standard_name: air_temperature\n",
      "    long_name: air temperature\n",
      "    units: K\n",
      "    _FillValue: -9999.0\n",
      "    cell_methods: time:mean\n",
      "unlimited dimensions: time\n",
      "current shape = (1, 3500, 7000)\n",
      "filling off, 'Qair_f_tavg': <class 'netCDF4._netCDF4.Variable'>\n",
      "float32 Qair_f_tavg(time, lat, lon)\n",
      "    standard_name: specific_humidity\n",
      "    long_name: specific humidity\n",
      "    units: kg kg-1\n",
      "    _FillValue: -9999.0\n",
      "    cell_methods: time:mean\n",
      "unlimited dimensions: time\n",
      "current shape = (1, 3500, 7000)\n",
      "filling off, 'Psurf_f_tavg': <class 'netCDF4._netCDF4.Variable'>\n",
      "float32 Psurf_f_tavg(time, lat, lon)\n",
      "    standard_name: surface_air_pressure\n",
      "    long_name: surface pressure\n",
      "    units: Pa\n",
      "    _FillValue: -9999.0\n",
      "    cell_methods: time:mean\n",
      "unlimited dimensions: time\n",
      "current shape = (1, 3500, 7000)\n",
      "filling off, 'SWdown_f_tavg': <class 'netCDF4._netCDF4.Variable'>\n",
      "float32 SWdown_f_tavg(time, lat, lon)\n",
      "    standard_name: surface_downwelling_shortwave_flux_in_air\n",
      "    long_name: surface downward shortwave radiation\n",
      "    units: W m-2\n",
      "    _FillValue: -9999.0\n",
      "    cell_methods: time:mean\n",
      "unlimited dimensions: time\n",
      "current shape = (1, 3500, 7000)\n",
      "filling off, 'SoilMoi00_10cm_tavg': <class 'netCDF4._netCDF4.Variable'>\n",
      "float32 SoilMoi00_10cm_tavg(time, lat, lon)\n",
      "    standard_name: soil_moisture_content\n",
      "    units: m^3 m-3\n",
      "    _FillValue: -9999.0\n",
      "    cell_methods: time:mean\n",
      "    long_name: soil moisture content (0-10cm)\n",
      "unlimited dimensions: time\n",
      "current shape = (1, 3500, 7000)\n",
      "filling off, 'SoilTemp00_10cm_tavg': <class 'netCDF4._netCDF4.Variable'>\n",
      "float32 SoilTemp00_10cm_tavg(time, lat, lon)\n",
      "    standard_name: soil_temperature\n",
      "    units: K\n",
      "    _FillValue: -9999.0\n",
      "    cell_methods: time:mean\n",
      "    long_name: soil temperature (0-10cm)\n",
      "unlimited dimensions: time\n",
      "current shape = (1, 3500, 7000)\n",
      "filling off, 'SoilMoi10_40cm_tavg': <class 'netCDF4._netCDF4.Variable'>\n",
      "float32 SoilMoi10_40cm_tavg(time, lat, lon)\n",
      "    standard_name: soil_moisture_content\n",
      "    units: m^3 m-3\n",
      "    _FillValue: -9999.0\n",
      "    cell_methods: time:mean\n",
      "    long_name: soil moisture content (10-40cm)\n",
      "unlimited dimensions: time\n",
      "current shape = (1, 3500, 7000)\n",
      "filling off, 'SoilTemp10_40cm_tavg': <class 'netCDF4._netCDF4.Variable'>\n",
      "float32 SoilTemp10_40cm_tavg(time, lat, lon)\n",
      "    standard_name: soil_temperature\n",
      "    units: K\n",
      "    _FillValue: -9999.0\n",
      "    cell_methods: time:mean\n",
      "    long_name: soil temperature (10-40cm)\n",
      "unlimited dimensions: time\n",
      "current shape = (1, 3500, 7000)\n",
      "filling off, 'SoilMoi40_100cm_tavg': <class 'netCDF4._netCDF4.Variable'>\n",
      "float32 SoilMoi40_100cm_tavg(time, lat, lon)\n",
      "    standard_name: soil_moisture_content\n",
      "    units: m^3 m-3\n",
      "    _FillValue: -9999.0\n",
      "    cell_methods: time:mean\n",
      "    long_name: soil moisture content (40-100cm)\n",
      "unlimited dimensions: time\n",
      "current shape = (1, 3500, 7000)\n",
      "filling off, 'SoilTemp40_100cm_tavg': <class 'netCDF4._netCDF4.Variable'>\n",
      "float32 SoilTemp40_100cm_tavg(time, lat, lon)\n",
      "    standard_name: soil_temperature\n",
      "    units: K\n",
      "    _FillValue: -9999.0\n",
      "    cell_methods: time:mean\n",
      "    long_name: soil temperature (40-100cm)\n",
      "unlimited dimensions: time\n",
      "current shape = (1, 3500, 7000)\n",
      "filling off, 'SoilMoi100_200cm_tavg': <class 'netCDF4._netCDF4.Variable'>\n",
      "float32 SoilMoi100_200cm_tavg(time, lat, lon)\n",
      "    standard_name: soil_moisture_content\n",
      "    units: m^3 m-3\n",
      "    _FillValue: -9999.0\n",
      "    cell_methods: time:mean\n",
      "    long_name: soil moisture content (100-200cm)\n",
      "unlimited dimensions: time\n",
      "current shape = (1, 3500, 7000)\n",
      "filling off, 'SoilTemp100_200cm_tavg': <class 'netCDF4._netCDF4.Variable'>\n",
      "float32 SoilTemp100_200cm_tavg(time, lat, lon)\n",
      "    standard_name: soil_temperature\n",
      "    units: K\n",
      "    _FillValue: -9999.0\n",
      "    cell_methods: time:mean\n",
      "    long_name: soil temperature (100-200cm)\n",
      "unlimited dimensions: time\n",
      "current shape = (1, 3500, 7000)\n",
      "filling off, 'time_bnds': <class 'netCDF4._netCDF4.Variable'>\n",
      "float64 time_bnds(time, bnds)\n",
      "unlimited dimensions: time\n",
      "current shape = (1, 2)\n",
      "filling off}\n"
     ]
    }
   ],
   "source": [
    "print(dataset.variables)"
   ]
  },
  {
   "cell_type": "code",
   "execution_count": 66,
   "id": "43b189dd-043c-4b13-85f8-d077368a6150",
   "metadata": {},
   "outputs": [],
   "source": [
    "evapotrans = dataset.variables['Evap_tavg']\n",
    "soilmoisture = dataset.variables['SoilMoi00_10cm_tavg']\n",
    "lon = dataset.variables['lon']\n",
    "lat = dataset.variables['lat']"
   ]
  },
  {
   "cell_type": "code",
   "execution_count": 17,
   "id": "3bb9da86-7928-4314-9b87-12f8372ddc73",
   "metadata": {},
   "outputs": [
    {
     "data": {
      "text/plain": [
       "array([30.005, 30.015, 30.025, 30.035, 30.045, 30.055, 30.065, 30.075,\n",
       "       30.085, 30.095, 30.105, 30.115, 30.125, 30.135, 30.145, 30.155,\n",
       "       30.165, 30.175, 30.185, 30.195, 30.205, 30.215, 30.225, 30.235,\n",
       "       30.245, 30.255, 30.265, 30.275, 30.285, 30.295], dtype=float32)"
      ]
     },
     "execution_count": 17,
     "metadata": {},
     "output_type": "execute_result"
    }
   ],
   "source": [
    "lon[:].data[:30]"
   ]
  },
  {
   "cell_type": "code",
   "execution_count": 67,
   "id": "f489d9be-343b-445c-bc7d-09a39a2e3f89",
   "metadata": {},
   "outputs": [
    {
     "data": {
      "text/plain": [
       "(7000,)"
      ]
     },
     "execution_count": 67,
     "metadata": {},
     "output_type": "execute_result"
    }
   ],
   "source": [
    "lon_np = lon[:]\n",
    "lat_np = lat[:]\n",
    "soilmoisture_np = soilmoisture[:][0]\n",
    "evapotrans_np = evapotrans[:][0]\n",
    "\n",
    "lat_np.shape\n",
    "\n",
    "lon_np.shape"
   ]
  },
  {
   "cell_type": "code",
   "execution_count": 59,
   "id": "11fc06ac-66f9-4b8c-a717-cbe93515b974",
   "metadata": {},
   "outputs": [
    {
     "data": {
      "text/plain": [
       "1500"
      ]
     },
     "execution_count": 59,
     "metadata": {},
     "output_type": "execute_result"
    }
   ],
   "source": [
    "lon_range = np.logical_and(lon_np.data > 60, lon_np.data < 78)\n",
    "lat_range = np.logical_and(lat_np.data > 23, lat_np.data < 38)\n",
    "lat_np[lat_range].size"
   ]
  },
  {
   "cell_type": "code",
   "execution_count": 71,
   "id": "8d995424-44b3-484a-9743-270c126bfb03",
   "metadata": {},
   "outputs": [],
   "source": [
    "lon_np = lon_np.data[lon_range]\n",
    "lat_np = lat_np.data[lat_range]\n",
    "soilmoisture_np = soilmoisture_np.data[lat_range][:, lon_range]\n",
    "evapotrans_np = evapotrans_np.data[lat_range][:, lon_range]"
   ]
  },
  {
   "cell_type": "code",
   "execution_count": 72,
   "id": "2e9f8804-e108-4d2a-a67d-9b36d54dc931",
   "metadata": {},
   "outputs": [
    {
     "data": {
      "text/plain": [
       "(1500, 1800)"
      ]
     },
     "execution_count": 72,
     "metadata": {},
     "output_type": "execute_result"
    }
   ],
   "source": [
    "evapotrans_np.shape"
   ]
  },
  {
   "cell_type": "code",
   "execution_count": 73,
   "id": "f430668e-bad7-45ee-a1cc-daeefddb99c2",
   "metadata": {},
   "outputs": [],
   "source": [
    "dest_path = r\"../soilmoisture/evap_moisture.npz\"\n",
    "np.savez(dest_path, lon=lon_np, lat=lat_np, soilmoisture=soilmoisture_np, evapotrans=evapotrans_np)"
   ]
  },
  {
   "cell_type": "code",
   "execution_count": 78,
   "id": "96038d79-65dc-4299-9d9c-6f8a594f807d",
   "metadata": {},
   "outputs": [],
   "source": [
    "file = np.load(dest_path)"
   ]
  },
  {
   "cell_type": "code",
   "execution_count": 79,
   "id": "283324f0-f640-4bd4-a806-1775ab519fb6",
   "metadata": {},
   "outputs": [
    {
     "data": {
      "text/plain": [
       "array([60.005, 60.015, 60.025, ..., 77.975, 77.985, 77.995], dtype=float32)"
      ]
     },
     "execution_count": 79,
     "metadata": {},
     "output_type": "execute_result"
    }
   ],
   "source": [
    "newfile['lon']"
   ]
  },
  {
   "cell_type": "code",
   "execution_count": 80,
   "id": "853fb936-5943-4ddb-8318-3b82b9fa98d2",
   "metadata": {},
   "outputs": [],
   "source": [
    "lon = file['lon']\n",
    "lat = file['lat']\n",
    "evapotrans = file['evapotrans']\n",
    "soilmoisture = file['soilmoisture']"
   ]
  },
  {
   "cell_type": "code",
   "execution_count": null,
   "id": "79a3cd80-f40e-441c-acae-16ea5636c96c",
   "metadata": {},
   "outputs": [],
   "source": [
    "def get_coords(lon_val, lat_val):\n",
    "    \n",
    "    lon_index = np.searchsorted(lon, lon_val)\n",
    "\n",
    "    # Check the closest values (before and after the lon_index)\n",
    "    before = lon[max(0, lon_index - 1)]\n",
    "    after = lon[min(lon_index, len(lon) - 1)]\n",
    "    \n",
    "    # Determine which value is closer\n",
    "    if abs(before - target_number) < abs(after - target_number):\n",
    "        lon_index_of_closest = lon_index - 1\n",
    "    else:\n",
    "       lon_index_of_closest = lon_index\n",
    "\n",
    "    lat_index = np.searchsorted(lat, lat_val)\n",
    "\n",
    "    # Check the closest values (before and after the lat_index)\n",
    "    before = lat[max(0, lat_index - 1)]\n",
    "    after = lat[min(lat_index, len(lat) - 1)]\n",
    "    \n",
    "    # Determine which value is closer\n",
    "    if abs(before - target_number) < abs(after - target_number):\n",
    "        lat_index_of_closest = lat_index - 1\n",
    "    else:\n",
    "       lat_index_of_closest = lat_index\n",
    "\n",
    "    "
   ]
  }
 ],
 "metadata": {
  "kernelspec": {
   "display_name": "Python 3 (ipykernel)",
   "language": "python",
   "name": "python3"
  },
  "language_info": {
   "codemirror_mode": {
    "name": "ipython",
    "version": 3
   },
   "file_extension": ".py",
   "mimetype": "text/x-python",
   "name": "python",
   "nbconvert_exporter": "python",
   "pygments_lexer": "ipython3",
   "version": "3.10.12"
  }
 },
 "nbformat": 4,
 "nbformat_minor": 5
}
