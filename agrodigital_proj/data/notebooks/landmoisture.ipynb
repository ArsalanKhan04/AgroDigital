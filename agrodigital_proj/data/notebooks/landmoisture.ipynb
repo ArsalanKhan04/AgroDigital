{
 "cells": [
  {
   "cell_type": "code",
   "execution_count": null,
   "id": "a1a5c4cb-8822-4478-ad16-2ba046a0d315",
   "metadata": {},
   "outputs": [],
   "source": []
  },
  {
   "cell_type": "code",
   "execution_count": 2,
   "id": "ce8a207e-521e-46cb-950b-aacc3c94412e",
   "metadata": {},
   "outputs": [
    {
     "name": "stdout",
     "output_type": "stream",
     "text": [
      "Defaulting to user installation because normal site-packages is not writeable\n",
      "Collecting netCDF4\n",
      "  Downloading netCDF4-1.6.5-cp310-cp310-manylinux_2_17_x86_64.manylinux2014_x86_64.whl (5.5 MB)\n",
      "\u001b[2K     \u001b[38;2;114;156;31m━━━━━━━━━━━━━━━━━━━━━━━━━━━━━━━━━━━━━━━━\u001b[0m \u001b[32m5.5/5.5 MB\u001b[0m \u001b[31m145.9 kB/s\u001b[0m eta \u001b[36m0:00:00\u001b[0mm eta \u001b[36m0:00:01\u001b[0m[36m0:00:02\u001b[0m\n",
      "\u001b[?25hCollecting cftime\n",
      "  Downloading cftime-1.6.3-cp310-cp310-manylinux_2_17_x86_64.manylinux2014_x86_64.whl (1.3 MB)\n",
      "\u001b[2K     \u001b[38;2;114;156;31m━━━━━━━━━━━━━━━━━━━━━━━━━━━━━━━━━━━━━━━━\u001b[0m \u001b[32m1.3/1.3 MB\u001b[0m \u001b[31m532.5 kB/s\u001b[0m eta \u001b[36m0:00:00\u001b[0mm eta \u001b[36m0:00:01\u001b[0m[36m0:00:01\u001b[0m\n",
      "\u001b[?25hRequirement already satisfied: numpy in /home/arsalan/.local/lib/python3.10/site-packages (from netCDF4) (1.26.2)\n",
      "Requirement already satisfied: certifi in /usr/lib/python3/dist-packages (from netCDF4) (2020.6.20)\n",
      "Installing collected packages: cftime, netCDF4\n",
      "Successfully installed cftime-1.6.3 netCDF4-1.6.5\n",
      "Note: you may need to restart the kernel to use updated packages.\n"
     ]
    }
   ],
   "source": [
    "%pip install netCDF4"
   ]
  },
  {
   "cell_type": "code",
   "execution_count": 2,
   "id": "058aa0a1-3f48-491f-b9da-a2fc1c2f9de0",
   "metadata": {
    "scrolled": true
   },
   "outputs": [],
   "source": [
    "import netCDF4 as nc\n",
    "import numpy as np"
   ]
  },
  {
   "cell_type": "code",
   "execution_count": 4,
   "id": "9c8cc484-8e99-4db3-9f5a-9c5a99ad506f",
   "metadata": {},
   "outputs": [],
   "source": [
    "file_path = \"../soilmoisture/MERRA2_400.tavg1_2d_lnd_Nx.20231101.nc4\""
   ]
  },
  {
   "cell_type": "code",
   "execution_count": 5,
   "id": "ff3022bf-a345-4699-b442-59afec08e97f",
   "metadata": {},
   "outputs": [],
   "source": [
    "file_path_2 = \"../soilmoisture/FLDAS_NOAH001_G_CA_D.A20230930.001.nc\""
   ]
  },
  {
   "cell_type": "code",
   "execution_count": 6,
   "id": "47003f49-6b24-4311-94af-b002650920a5",
   "metadata": {},
   "outputs": [
    {
     "name": "stdout",
     "output_type": "stream",
     "text": [
      "Variable: lon\n",
      "Attributes: {'long_name': 'longitude', 'units': 'degrees_east', 'vmax': 1000000000000000.0, 'vmin': -1000000000000000.0, 'valid_range': array([-1.e+15,  1.e+15], dtype=float32)}\n",
      "(576,)\n",
      "Variable: lat\n",
      "Attributes: {'long_name': 'latitude', 'units': 'degrees_north', 'vmax': 1000000000000000.0, 'vmin': -1000000000000000.0, 'valid_range': array([-1.e+15,  1.e+15], dtype=float32)}\n",
      "(361,)\n",
      "Variable: time\n",
      "Attributes: {'long_name': 'time', 'units': 'minutes since 2023-11-01 00:30:00', 'time_increment': 10000, 'begin_date': 20231101, 'begin_time': 3000, 'vmax': 1000000000000000.0, 'vmin': -1000000000000000.0, 'valid_range': array([-1.e+15,  1.e+15], dtype=float32)}\n",
      "(24,)\n",
      "Variable: BASEFLOW\n",
      "Attributes: {'long_name': 'baseflow_flux', 'units': 'kg m-2 s-1', '_FillValue': 1000000000000000.0, 'missing_value': 1000000000000000.0, 'fmissing_value': 1000000000000000.0, 'scale_factor': 1.0, 'add_offset': 0.0, 'standard_name': 'baseflow_flux', 'vmax': 1000000000000000.0, 'vmin': -1000000000000000.0, 'valid_range': array([-1.e+15,  1.e+15], dtype=float32)}\n",
      "(24, 361, 576)\n",
      "Variable: ECHANGE\n",
      "Attributes: {'long_name': 'rate_of_change_of_total_land_energy', 'units': 'W m-2', '_FillValue': 1000000000000000.0, 'missing_value': 1000000000000000.0, 'fmissing_value': 1000000000000000.0, 'scale_factor': 1.0, 'add_offset': 0.0, 'standard_name': 'rate_of_change_of_total_land_energy', 'vmax': 1000000000000000.0, 'vmin': -1000000000000000.0, 'valid_range': array([-1.e+15,  1.e+15], dtype=float32)}\n",
      "(24, 361, 576)\n",
      "Variable: EVLAND\n",
      "Attributes: {'long_name': 'Evaporation_land', 'units': 'kg m-2 s-1', '_FillValue': 1000000000000000.0, 'missing_value': 1000000000000000.0, 'fmissing_value': 1000000000000000.0, 'scale_factor': 1.0, 'add_offset': 0.0, 'standard_name': 'Evaporation_land', 'vmax': 1000000000000000.0, 'vmin': -1000000000000000.0, 'valid_range': array([-1.e+15,  1.e+15], dtype=float32)}\n"
     ]
    },
    {
     "name": "stderr",
     "output_type": "stream",
     "text": [
      "/tmp/ipykernel_9000/3258772229.py:9: RuntimeWarning: invalid value encountered in cast\n",
      "  print(variable[:].shape)\n",
      "/tmp/ipykernel_9000/3258772229.py:9: UserWarning: WARNING: valid_range not used since it\n",
      "cannot be safely cast to variable data type\n",
      "  print(variable[:].shape)\n"
     ]
    },
    {
     "name": "stdout",
     "output_type": "stream",
     "text": [
      "(24, 361, 576)\n",
      "Variable: EVPINTR\n",
      "Attributes: {'long_name': 'interception_loss_energy_flux', 'units': 'W m-2', '_FillValue': 1000000000000000.0, 'missing_value': 1000000000000000.0, 'fmissing_value': 1000000000000000.0, 'scale_factor': 1.0, 'add_offset': 0.0, 'standard_name': 'interception_loss_energy_flux', 'vmax': 1000000000000000.0, 'vmin': -1000000000000000.0, 'valid_range': array([-1.e+15,  1.e+15], dtype=float32)}\n",
      "(24, 361, 576)\n",
      "Variable: EVPSBLN\n",
      "Attributes: {'long_name': 'snow_ice_evaporation_energy_flux', 'units': 'W m-2', '_FillValue': 1000000000000000.0, 'missing_value': 1000000000000000.0, 'fmissing_value': 1000000000000000.0, 'scale_factor': 1.0, 'add_offset': 0.0, 'standard_name': 'snow_ice_evaporation_energy_flux', 'vmax': 1000000000000000.0, 'vmin': -1000000000000000.0, 'valid_range': array([-1.e+15,  1.e+15], dtype=float32)}\n",
      "(24, 361, 576)\n",
      "Variable: EVPSOIL\n",
      "Attributes: {'long_name': 'baresoil_evap_energy_flux', 'units': 'W m-2', '_FillValue': 1000000000000000.0, 'missing_value': 1000000000000000.0, 'fmissing_value': 1000000000000000.0, 'scale_factor': 1.0, 'add_offset': 0.0, 'standard_name': 'baresoil_evap_energy_flux', 'vmax': 1000000000000000.0, 'vmin': -1000000000000000.0, 'valid_range': array([-1.e+15,  1.e+15], dtype=float32)}\n",
      "(24, 361, 576)\n",
      "Variable: EVPTRNS\n",
      "Attributes: {'long_name': 'transpiration_energy_flux', 'units': 'W m-2', '_FillValue': 1000000000000000.0, 'missing_value': 1000000000000000.0, 'fmissing_value': 1000000000000000.0, 'scale_factor': 1.0, 'add_offset': 0.0, 'standard_name': 'transpiration_energy_flux', 'vmax': 1000000000000000.0, 'vmin': -1000000000000000.0, 'valid_range': array([-1.e+15,  1.e+15], dtype=float32)}\n",
      "(24, 361, 576)\n",
      "Variable: FRSAT\n",
      "Attributes: {'long_name': 'fractional_area_of_saturated_zone', 'units': '1', '_FillValue': 1000000000000000.0, 'missing_value': 1000000000000000.0, 'fmissing_value': 1000000000000000.0, 'scale_factor': 1.0, 'add_offset': 0.0, 'standard_name': 'fractional_area_of_saturated_zone', 'vmax': 1000000000000000.0, 'vmin': -1000000000000000.0, 'valid_range': array([-1.e+15,  1.e+15], dtype=float32)}\n",
      "(24, 361, 576)\n",
      "Variable: FRSNO\n",
      "Attributes: {'long_name': 'fractional_area_of_land_snowcover', 'units': '1', '_FillValue': 1000000000000000.0, 'missing_value': 1000000000000000.0, 'fmissing_value': 1000000000000000.0, 'scale_factor': 1.0, 'add_offset': 0.0, 'standard_name': 'fractional_area_of_land_snowcover', 'vmax': 1000000000000000.0, 'vmin': -1000000000000000.0, 'valid_range': array([-1.e+15,  1.e+15], dtype=float32)}\n",
      "(24, 361, 576)\n",
      "Variable: FRUNST\n",
      "Attributes: {'long_name': 'fractional_area_of_unsaturated_zone', 'units': '1', '_FillValue': 1000000000000000.0, 'missing_value': 1000000000000000.0, 'fmissing_value': 1000000000000000.0, 'scale_factor': 1.0, 'add_offset': 0.0, 'standard_name': 'fractional_area_of_unsaturated_zone', 'vmax': 1000000000000000.0, 'vmin': -1000000000000000.0, 'valid_range': array([-1.e+15,  1.e+15], dtype=float32)}\n",
      "(24, 361, 576)\n",
      "Variable: FRWLT\n",
      "Attributes: {'long_name': 'fractional_area_of_wilting_zone', 'units': '1', '_FillValue': 1000000000000000.0, 'missing_value': 1000000000000000.0, 'fmissing_value': 1000000000000000.0, 'scale_factor': 1.0, 'add_offset': 0.0, 'standard_name': 'fractional_area_of_wilting_zone', 'vmax': 1000000000000000.0, 'vmin': -1000000000000000.0, 'valid_range': array([-1.e+15,  1.e+15], dtype=float32)}\n",
      "(24, 361, 576)\n",
      "Variable: GHLAND\n",
      "Attributes: {'long_name': 'Ground_heating_land', 'units': 'W m-2', '_FillValue': 1000000000000000.0, 'missing_value': 1000000000000000.0, 'fmissing_value': 1000000000000000.0, 'scale_factor': 1.0, 'add_offset': 0.0, 'standard_name': 'Ground_heating_land', 'vmax': 1000000000000000.0, 'vmin': -1000000000000000.0, 'valid_range': array([-1.e+15,  1.e+15], dtype=float32)}\n",
      "(24, 361, 576)\n",
      "Variable: GRN\n",
      "Attributes: {'long_name': 'greeness_fraction', 'units': '1', '_FillValue': 1000000000000000.0, 'missing_value': 1000000000000000.0, 'fmissing_value': 1000000000000000.0, 'scale_factor': 1.0, 'add_offset': 0.0, 'standard_name': 'greeness_fraction', 'vmax': 1000000000000000.0, 'vmin': -1000000000000000.0, 'valid_range': array([-1.e+15,  1.e+15], dtype=float32)}\n",
      "(24, 361, 576)\n",
      "Variable: GWETPROF\n",
      "Attributes: {'long_name': 'ave_prof_soil_moisture', 'units': '1', '_FillValue': 1000000000000000.0, 'missing_value': 1000000000000000.0, 'fmissing_value': 1000000000000000.0, 'scale_factor': 1.0, 'add_offset': 0.0, 'standard_name': 'ave_prof_soil_moisture', 'vmax': 1000000000000000.0, 'vmin': -1000000000000000.0, 'valid_range': array([-1.e+15,  1.e+15], dtype=float32)}\n",
      "(24, 361, 576)\n",
      "Variable: GWETROOT\n",
      "Attributes: {'long_name': 'root_zone_soil_wetness', 'units': '1', '_FillValue': 1000000000000000.0, 'missing_value': 1000000000000000.0, 'fmissing_value': 1000000000000000.0, 'scale_factor': 1.0, 'add_offset': 0.0, 'standard_name': 'root_zone_soil_wetness', 'vmax': 1000000000000000.0, 'vmin': -1000000000000000.0, 'valid_range': array([-1.e+15,  1.e+15], dtype=float32)}\n",
      "(24, 361, 576)\n",
      "Variable: GWETTOP\n",
      "Attributes: {'long_name': 'surface_soil_wetness', 'units': '1', '_FillValue': 1000000000000000.0, 'missing_value': 1000000000000000.0, 'fmissing_value': 1000000000000000.0, 'scale_factor': 1.0, 'add_offset': 0.0, 'standard_name': 'surface_soil_wetness', 'vmax': 1000000000000000.0, 'vmin': -1000000000000000.0, 'valid_range': array([-1.e+15,  1.e+15], dtype=float32)}\n",
      "(24, 361, 576)\n",
      "Variable: LAI\n",
      "Attributes: {'long_name': 'leaf_area_index', 'units': '1', '_FillValue': 1000000000000000.0, 'missing_value': 1000000000000000.0, 'fmissing_value': 1000000000000000.0, 'scale_factor': 1.0, 'add_offset': 0.0, 'standard_name': 'leaf_area_index', 'vmax': 1000000000000000.0, 'vmin': -1000000000000000.0, 'valid_range': array([-1.e+15,  1.e+15], dtype=float32)}\n",
      "(24, 361, 576)\n",
      "Variable: LHLAND\n",
      "Attributes: {'long_name': 'Latent_heat_flux_land', 'units': 'W m-2', '_FillValue': 1000000000000000.0, 'missing_value': 1000000000000000.0, 'fmissing_value': 1000000000000000.0, 'scale_factor': 1.0, 'add_offset': 0.0, 'standard_name': 'Latent_heat_flux_land', 'vmax': 1000000000000000.0, 'vmin': -1000000000000000.0, 'valid_range': array([-1.e+15,  1.e+15], dtype=float32)}\n",
      "(24, 361, 576)\n",
      "Variable: LWLAND\n",
      "Attributes: {'long_name': 'Net_longwave_land', 'units': 'W m-2', '_FillValue': 1000000000000000.0, 'missing_value': 1000000000000000.0, 'fmissing_value': 1000000000000000.0, 'scale_factor': 1.0, 'add_offset': 0.0, 'standard_name': 'Net_longwave_land', 'vmax': 1000000000000000.0, 'vmin': -1000000000000000.0, 'valid_range': array([-1.e+15,  1.e+15], dtype=float32)}\n",
      "(24, 361, 576)\n",
      "Variable: PARDFLAND\n",
      "Attributes: {'long_name': 'surface_downwelling_par_diffuse_flux', 'units': 'W m-2', '_FillValue': 1000000000000000.0, 'missing_value': 1000000000000000.0, 'fmissing_value': 1000000000000000.0, 'scale_factor': 1.0, 'add_offset': 0.0, 'standard_name': 'surface_downwelling_par_diffuse_flux', 'vmax': 1000000000000000.0, 'vmin': -1000000000000000.0, 'valid_range': array([-1.e+15,  1.e+15], dtype=float32)}\n",
      "(24, 361, 576)\n",
      "Variable: PARDRLAND\n",
      "Attributes: {'long_name': 'surface_downwelling_par_beam_flux', 'units': 'W m-2', '_FillValue': 1000000000000000.0, 'missing_value': 1000000000000000.0, 'fmissing_value': 1000000000000000.0, 'scale_factor': 1.0, 'add_offset': 0.0, 'standard_name': 'surface_downwelling_par_beam_flux', 'vmax': 1000000000000000.0, 'vmin': -1000000000000000.0, 'valid_range': array([-1.e+15,  1.e+15], dtype=float32)}\n",
      "(24, 361, 576)\n",
      "Variable: PRECSNOLAND\n",
      "Attributes: {'long_name': 'snowfall_land', 'units': 'kg m-2 s-1', '_FillValue': 1000000000000000.0, 'missing_value': 1000000000000000.0, 'fmissing_value': 1000000000000000.0, 'scale_factor': 1.0, 'add_offset': 0.0, 'standard_name': 'snowfall_land', 'vmax': 1000000000000000.0, 'vmin': -1000000000000000.0, 'valid_range': array([-1.e+15,  1.e+15], dtype=float32)}\n",
      "(24, 361, 576)\n",
      "Variable: PRECTOTLAND\n",
      "Attributes: {'long_name': 'Total_precipitation_land', 'units': 'kg m-2 s-1', '_FillValue': 1000000000000000.0, 'missing_value': 1000000000000000.0, 'fmissing_value': 1000000000000000.0, 'scale_factor': 1.0, 'add_offset': 0.0, 'standard_name': 'Total_precipitation_land', 'vmax': 1000000000000000.0, 'vmin': -1000000000000000.0, 'valid_range': array([-1.e+15,  1.e+15], dtype=float32)}\n",
      "(24, 361, 576)\n",
      "Variable: PRMC\n",
      "Attributes: {'long_name': 'water_profile', 'units': 'm-3 m-3', '_FillValue': 1000000000000000.0, 'missing_value': 1000000000000000.0, 'fmissing_value': 1000000000000000.0, 'scale_factor': 1.0, 'add_offset': 0.0, 'standard_name': 'water_profile', 'vmax': 1000000000000000.0, 'vmin': -1000000000000000.0, 'valid_range': array([-1.e+15,  1.e+15], dtype=float32)}\n",
      "(24, 361, 576)\n",
      "Variable: QINFIL\n",
      "Attributes: {'long_name': 'Soil_water_infiltration_rate', 'units': 'kg m-2 s-1', '_FillValue': 1000000000000000.0, 'missing_value': 1000000000000000.0, 'fmissing_value': 1000000000000000.0, 'scale_factor': 1.0, 'add_offset': 0.0, 'standard_name': 'Soil_water_infiltration_rate', 'vmax': 1000000000000000.0, 'vmin': -1000000000000000.0, 'valid_range': array([-1.e+15,  1.e+15], dtype=float32)}\n",
      "(24, 361, 576)\n",
      "Variable: RUNOFF\n",
      "Attributes: {'long_name': 'overland_runoff_including_throughflow', 'units': 'kg m-2 s-1', '_FillValue': 1000000000000000.0, 'missing_value': 1000000000000000.0, 'fmissing_value': 1000000000000000.0, 'scale_factor': 1.0, 'add_offset': 0.0, 'standard_name': 'overland_runoff_including_throughflow', 'vmax': 1000000000000000.0, 'vmin': -1000000000000000.0, 'valid_range': array([-1.e+15,  1.e+15], dtype=float32)}\n",
      "(24, 361, 576)\n",
      "Variable: RZMC\n",
      "Attributes: {'long_name': 'water_root_zone', 'units': 'm-3 m-3', '_FillValue': 1000000000000000.0, 'missing_value': 1000000000000000.0, 'fmissing_value': 1000000000000000.0, 'scale_factor': 1.0, 'add_offset': 0.0, 'standard_name': 'water_root_zone', 'vmax': 1000000000000000.0, 'vmin': -1000000000000000.0, 'valid_range': array([-1.e+15,  1.e+15], dtype=float32)}\n",
      "(24, 361, 576)\n",
      "Variable: SFMC\n",
      "Attributes: {'long_name': 'water_surface_layer', 'units': 'm-3 m-3', '_FillValue': 1000000000000000.0, 'missing_value': 1000000000000000.0, 'fmissing_value': 1000000000000000.0, 'scale_factor': 1.0, 'add_offset': 0.0, 'standard_name': 'water_surface_layer', 'vmax': 1000000000000000.0, 'vmin': -1000000000000000.0, 'valid_range': array([-1.e+15,  1.e+15], dtype=float32)}\n",
      "(24, 361, 576)\n",
      "Variable: SHLAND\n",
      "Attributes: {'long_name': 'Sensible_heat_flux_land', 'units': 'W m-2', '_FillValue': 1000000000000000.0, 'missing_value': 1000000000000000.0, 'fmissing_value': 1000000000000000.0, 'scale_factor': 1.0, 'add_offset': 0.0, 'standard_name': 'Sensible_heat_flux_land', 'vmax': 1000000000000000.0, 'vmin': -1000000000000000.0, 'valid_range': array([-1.e+15,  1.e+15], dtype=float32)}\n",
      "(24, 361, 576)\n",
      "Variable: SMLAND\n",
      "Attributes: {'long_name': 'Snowmelt_flux_land', 'units': 'kg m-2 s-1', '_FillValue': 1000000000000000.0, 'missing_value': 1000000000000000.0, 'fmissing_value': 1000000000000000.0, 'scale_factor': 1.0, 'add_offset': 0.0, 'standard_name': 'Snowmelt_flux_land', 'vmax': 1000000000000000.0, 'vmin': -1000000000000000.0, 'valid_range': array([-1.e+15,  1.e+15], dtype=float32)}\n",
      "(24, 361, 576)\n",
      "Variable: SNODP\n",
      "Attributes: {'long_name': 'snow_depth', 'units': 'm', '_FillValue': 1000000000000000.0, 'missing_value': 1000000000000000.0, 'fmissing_value': 1000000000000000.0, 'scale_factor': 1.0, 'add_offset': 0.0, 'standard_name': 'snow_depth', 'vmax': 1000000000000000.0, 'vmin': -1000000000000000.0, 'valid_range': array([-1.e+15,  1.e+15], dtype=float32)}\n",
      "(24, 361, 576)\n",
      "Variable: SNOMAS\n",
      "Attributes: {'long_name': 'Total_snow_storage_land', 'units': 'kg m-2', '_FillValue': 1000000000000000.0, 'missing_value': 1000000000000000.0, 'fmissing_value': 1000000000000000.0, 'scale_factor': 1.0, 'add_offset': 0.0, 'standard_name': 'Total_snow_storage_land', 'vmax': 1000000000000000.0, 'vmin': -1000000000000000.0, 'valid_range': array([-1.e+15,  1.e+15], dtype=float32)}\n",
      "(24, 361, 576)\n",
      "Variable: SPLAND\n",
      "Attributes: {'long_name': 'rate_of_spurious_land_energy_source', 'units': 'W m-2', '_FillValue': 1000000000000000.0, 'missing_value': 1000000000000000.0, 'fmissing_value': 1000000000000000.0, 'scale_factor': 1.0, 'add_offset': 0.0, 'standard_name': 'rate_of_spurious_land_energy_source', 'vmax': 1000000000000000.0, 'vmin': -1000000000000000.0, 'valid_range': array([-1.e+15,  1.e+15], dtype=float32)}\n",
      "(24, 361, 576)\n",
      "Variable: SPSNOW\n",
      "Attributes: {'long_name': 'rate_of_spurious_snow_energy', 'units': 'W m-2', '_FillValue': 1000000000000000.0, 'missing_value': 1000000000000000.0, 'fmissing_value': 1000000000000000.0, 'scale_factor': 1.0, 'add_offset': 0.0, 'standard_name': 'rate_of_spurious_snow_energy', 'vmax': 1000000000000000.0, 'vmin': -1000000000000000.0, 'valid_range': array([-1.e+15,  1.e+15], dtype=float32)}\n",
      "(24, 361, 576)\n",
      "Variable: SPWATR\n",
      "Attributes: {'long_name': 'rate_of_spurious_land_water_source', 'units': 'kg m-2 s-1', '_FillValue': 1000000000000000.0, 'missing_value': 1000000000000000.0, 'fmissing_value': 1000000000000000.0, 'scale_factor': 1.0, 'add_offset': 0.0, 'standard_name': 'rate_of_spurious_land_water_source', 'vmax': 1000000000000000.0, 'vmin': -1000000000000000.0, 'valid_range': array([-1.e+15,  1.e+15], dtype=float32)}\n",
      "(24, 361, 576)\n",
      "Variable: SWLAND\n",
      "Attributes: {'long_name': 'Net_shortwave_land', 'units': 'W m-2', '_FillValue': 1000000000000000.0, 'missing_value': 1000000000000000.0, 'fmissing_value': 1000000000000000.0, 'scale_factor': 1.0, 'add_offset': 0.0, 'standard_name': 'Net_shortwave_land', 'vmax': 1000000000000000.0, 'vmin': -1000000000000000.0, 'valid_range': array([-1.e+15,  1.e+15], dtype=float32)}\n",
      "(24, 361, 576)\n",
      "Variable: TELAND\n",
      "Attributes: {'long_name': 'Total_energy_storage_land', 'units': 'J m-2', '_FillValue': 1000000000000000.0, 'missing_value': 1000000000000000.0, 'fmissing_value': 1000000000000000.0, 'scale_factor': 1.0, 'add_offset': 0.0, 'standard_name': 'Total_energy_storage_land', 'vmax': 1000000000000000.0, 'vmin': -1000000000000000.0, 'valid_range': array([-1.e+15,  1.e+15], dtype=float32)}\n",
      "(24, 361, 576)\n",
      "Variable: TPSNOW\n",
      "Attributes: {'long_name': 'surface_temperature_of_snow', 'units': 'K', '_FillValue': 1000000000000000.0, 'missing_value': 1000000000000000.0, 'fmissing_value': 1000000000000000.0, 'scale_factor': 1.0, 'add_offset': 0.0, 'standard_name': 'surface_temperature_of_snow', 'vmax': 1000000000000000.0, 'vmin': -1000000000000000.0, 'valid_range': array([-1.e+15,  1.e+15], dtype=float32)}\n",
      "(24, 361, 576)\n",
      "Variable: TSAT\n",
      "Attributes: {'long_name': 'surface_temperature_of_saturated_zone', 'units': 'K', '_FillValue': 1000000000000000.0, 'missing_value': 1000000000000000.0, 'fmissing_value': 1000000000000000.0, 'scale_factor': 1.0, 'add_offset': 0.0, 'standard_name': 'surface_temperature_of_saturated_zone', 'vmax': 1000000000000000.0, 'vmin': -1000000000000000.0, 'valid_range': array([-1.e+15,  1.e+15], dtype=float32)}\n",
      "(24, 361, 576)\n",
      "Variable: TSOIL1\n",
      "Attributes: {'long_name': 'soil_temperatures_layer_1', 'units': 'K', '_FillValue': 1000000000000000.0, 'missing_value': 1000000000000000.0, 'fmissing_value': 1000000000000000.0, 'scale_factor': 1.0, 'add_offset': 0.0, 'standard_name': 'soil_temperatures_layer_1', 'vmax': 1000000000000000.0, 'vmin': -1000000000000000.0, 'valid_range': array([-1.e+15,  1.e+15], dtype=float32)}\n",
      "(24, 361, 576)\n",
      "Variable: TSOIL2\n",
      "Attributes: {'long_name': 'soil_temperatures_layer_2', 'units': 'K', '_FillValue': 1000000000000000.0, 'missing_value': 1000000000000000.0, 'fmissing_value': 1000000000000000.0, 'scale_factor': 1.0, 'add_offset': 0.0, 'standard_name': 'soil_temperatures_layer_2', 'vmax': 1000000000000000.0, 'vmin': -1000000000000000.0, 'valid_range': array([-1.e+15,  1.e+15], dtype=float32)}\n",
      "(24, 361, 576)\n",
      "Variable: TSOIL3\n",
      "Attributes: {'long_name': 'soil_temperatures_layer_3', 'units': 'K', '_FillValue': 1000000000000000.0, 'missing_value': 1000000000000000.0, 'fmissing_value': 1000000000000000.0, 'scale_factor': 1.0, 'add_offset': 0.0, 'standard_name': 'soil_temperatures_layer_3', 'vmax': 1000000000000000.0, 'vmin': -1000000000000000.0, 'valid_range': array([-1.e+15,  1.e+15], dtype=float32)}\n",
      "(24, 361, 576)\n",
      "Variable: TSOIL4\n",
      "Attributes: {'long_name': 'soil_temperatures_layer_4', 'units': 'K', '_FillValue': 1000000000000000.0, 'missing_value': 1000000000000000.0, 'fmissing_value': 1000000000000000.0, 'scale_factor': 1.0, 'add_offset': 0.0, 'standard_name': 'soil_temperatures_layer_4', 'vmax': 1000000000000000.0, 'vmin': -1000000000000000.0, 'valid_range': array([-1.e+15,  1.e+15], dtype=float32)}\n",
      "(24, 361, 576)\n",
      "Variable: TSOIL5\n",
      "Attributes: {'long_name': 'soil_temperatures_layer_5', 'units': 'K', '_FillValue': 1000000000000000.0, 'missing_value': 1000000000000000.0, 'fmissing_value': 1000000000000000.0, 'scale_factor': 1.0, 'add_offset': 0.0, 'standard_name': 'soil_temperatures_layer_5', 'vmax': 1000000000000000.0, 'vmin': -1000000000000000.0, 'valid_range': array([-1.e+15,  1.e+15], dtype=float32)}\n",
      "(24, 361, 576)\n",
      "Variable: TSOIL6\n",
      "Attributes: {'long_name': 'soil_temperatures_layer_6', 'units': 'K', '_FillValue': 1000000000000000.0, 'missing_value': 1000000000000000.0, 'fmissing_value': 1000000000000000.0, 'scale_factor': 1.0, 'add_offset': 0.0, 'standard_name': 'soil_temperatures_layer_6', 'vmax': 1000000000000000.0, 'vmin': -1000000000000000.0, 'valid_range': array([-1.e+15,  1.e+15], dtype=float32)}\n",
      "(24, 361, 576)\n",
      "Variable: TSURF\n",
      "Attributes: {'long_name': 'surface_temperature_of_land_incl_snow', 'units': 'K', '_FillValue': 1000000000000000.0, 'missing_value': 1000000000000000.0, 'fmissing_value': 1000000000000000.0, 'scale_factor': 1.0, 'add_offset': 0.0, 'standard_name': 'surface_temperature_of_land_incl_snow', 'vmax': 1000000000000000.0, 'vmin': -1000000000000000.0, 'valid_range': array([-1.e+15,  1.e+15], dtype=float32)}\n",
      "(24, 361, 576)\n",
      "Variable: TUNST\n",
      "Attributes: {'long_name': 'surface_temperature_of_unsaturated_zone', 'units': 'K', '_FillValue': 1000000000000000.0, 'missing_value': 1000000000000000.0, 'fmissing_value': 1000000000000000.0, 'scale_factor': 1.0, 'add_offset': 0.0, 'standard_name': 'surface_temperature_of_unsaturated_zone', 'vmax': 1000000000000000.0, 'vmin': -1000000000000000.0, 'valid_range': array([-1.e+15,  1.e+15], dtype=float32)}\n",
      "(24, 361, 576)\n",
      "Variable: TWLAND\n",
      "Attributes: {'long_name': 'Avail_water_storage_land', 'units': 'kg m-2', '_FillValue': 1000000000000000.0, 'missing_value': 1000000000000000.0, 'fmissing_value': 1000000000000000.0, 'scale_factor': 1.0, 'add_offset': 0.0, 'standard_name': 'Avail_water_storage_land', 'vmax': 1000000000000000.0, 'vmin': -1000000000000000.0, 'valid_range': array([-1.e+15,  1.e+15], dtype=float32)}\n",
      "(24, 361, 576)\n",
      "Variable: TWLT\n",
      "Attributes: {'long_name': 'surface_temperature_of_wilted_zone', 'units': 'K', '_FillValue': 1000000000000000.0, 'missing_value': 1000000000000000.0, 'fmissing_value': 1000000000000000.0, 'scale_factor': 1.0, 'add_offset': 0.0, 'standard_name': 'surface_temperature_of_wilted_zone', 'vmax': 1000000000000000.0, 'vmin': -1000000000000000.0, 'valid_range': array([-1.e+15,  1.e+15], dtype=float32)}\n",
      "(24, 361, 576)\n",
      "Variable: WCHANGE\n",
      "Attributes: {'long_name': 'rate_of_change_of_total_land_water', 'units': 'kg m-2 s-1', '_FillValue': 1000000000000000.0, 'missing_value': 1000000000000000.0, 'fmissing_value': 1000000000000000.0, 'scale_factor': 1.0, 'add_offset': 0.0, 'standard_name': 'rate_of_change_of_total_land_water', 'vmax': 1000000000000000.0, 'vmin': -1000000000000000.0, 'valid_range': array([-1.e+15,  1.e+15], dtype=float32)}\n",
      "(24, 361, 576)\n"
     ]
    }
   ],
   "source": [
    "metadata = \"\"\n",
    "with nc.Dataset(file_path, 'r') as file:\n",
    "    # \n",
    "    # print(file)\n",
    "    for varname, variable in file.variables.items():\n",
    "        print(f\"Variable: {varname}\")\n",
    "       #  print(\"Shape:\", variable.shape)\n",
    "        print(\"Attributes:\", variable.__dict__)\n",
    "        print(variable[:].shape)\n",
    "    \n",
    "\n",
    "\n",
    "    \n",
    "        # print(\"Data:\", variable[:])  # Access the data, [:] retrieves the entire array"
   ]
  },
  {
   "cell_type": "code",
   "execution_count": 4,
   "id": "d4fe0a00-f807-43d7-9003-697cd3bf88f1",
   "metadata": {},
   "outputs": [
    {
     "name": "stdout",
     "output_type": "stream",
     "text": [
      "Variable: time\n",
      "Attributes: {'axis': 'T', 'begin_date': '2023-09-30', 'calendar': 'proleptic_gregorian', 'standard_name': 'time', 'units': 'days since 2001-01-01 00:00:00', 'bounds': 'time_bnds'}\n",
      "(1,)\n",
      "Variable: lon\n",
      "Attributes: {'standard_name': 'longitude', 'long_name': 'longitude', 'axis': 'X', 'units': 'degrees_east'}\n",
      "(7000,)\n",
      "Variable: lat\n",
      "Attributes: {'standard_name': 'latitude', 'long_name': 'latitude', 'axis': 'Y', 'units': 'degrees_north'}\n",
      "(3500,)\n",
      "Variable: Swnet_tavg\n",
      "Attributes: {'standard_name': 'surface_net_downward_shortwave_flux', 'long_name': 'net downward shortwave radiation', 'units': 'W m-2', '_FillValue': -9999.0, 'missing_value': -9999.0, 'cell_methods': 'time:mean'}\n",
      "(1, 3500, 7000)\n",
      "Variable: Snowf_tavg\n",
      "Attributes: {'standard_name': 'snowfall_rate', 'long_name': 'snowfall rate', 'units': 'kg m-2 s-1', '_FillValue': -9999.0, 'missing_value': -9999.0, 'cell_methods': 'time:mean'}\n",
      "(1, 3500, 7000)\n",
      "Variable: Rainf_tavg\n",
      "Attributes: {'standard_name': 'precipitation_rate', 'long_name': 'precipitation rate', 'units': 'kg m-2 s-1', '_FillValue': -9999.0, 'missing_value': -9999.0, 'cell_methods': 'time:mean'}\n",
      "(1, 3500, 7000)\n",
      "Variable: Evap_tavg\n",
      "Attributes: {'standard_name': 'total_evapotranspiration', 'long_name': 'total evapotranspiration', 'units': 'kg m-2 s-1', '_FillValue': -9999.0, 'missing_value': -9999.0, 'cell_methods': 'time:mean'}\n",
      "(1, 3500, 7000)\n",
      "Variable: Qs_tavg\n",
      "Attributes: {'standard_name': 'surface_runoff_amount', 'long_name': 'surface runoff', 'units': 'kg m-2 s-1', '_FillValue': -9999.0, 'missing_value': -9999.0, 'cell_methods': 'time:mean'}\n",
      "(1, 3500, 7000)\n",
      "Variable: Qsb_tavg\n",
      "Attributes: {'standard_name': 'subsurface_runoff_amount', 'long_name': 'subsurface runoff amount', 'units': 'kg m-2 s-1', '_FillValue': -9999.0, 'missing_value': -9999.0, 'cell_methods': 'time:mean'}\n",
      "(1, 3500, 7000)\n",
      "Variable: Qsm_tavg\n",
      "Attributes: {'standard_name': 'snowmelt', 'long_name': 'snowmelt', 'units': 'kg m-2 s-1', '_FillValue': -9999.0, 'missing_value': -9999.0, 'cell_methods': 'time:mean'}\n",
      "(1, 3500, 7000)\n",
      "Variable: RadT_tavg\n",
      "Attributes: {'standard_name': 'surface_radiative_temperature', 'long_name': 'surface radiative temperature', 'units': 'K', '_FillValue': -9999.0, 'missing_value': -9999.0, 'cell_methods': 'time:mean'}\n",
      "(1, 3500, 7000)\n",
      "Variable: SWE_inst\n",
      "Attributes: {'standard_name': 'liquid_water_content_of_surface_snow', 'long_name': 'snow water equivalent', 'units': 'kg m-2', '_FillValue': -9999.0, 'missing_value': -9999.0, 'cell_methods': 'time:point'}\n",
      "(1, 3500, 7000)\n",
      "Variable: SnowDepth_inst\n",
      "Attributes: {'standard_name': 'snow_depth', 'long_name': 'snow depth', 'units': 'm', '_FillValue': -9999.0, 'missing_value': -9999.0, 'cell_methods': 'time:point'}\n",
      "(1, 3500, 7000)\n",
      "Variable: Rainf_f_tavg\n",
      "Attributes: {'standard_name': 'rainfall_flux', 'long_name': 'rainfall flux', 'units': 'kg m-2 s-1', '_FillValue': -9999.0, 'missing_value': -9999.0, 'cell_methods': 'time:mean'}\n",
      "(1, 3500, 7000)\n",
      "Variable: Tair_f_tavg\n",
      "Attributes: {'standard_name': 'air_temperature', 'long_name': 'air temperature', 'units': 'K', '_FillValue': -9999.0, 'missing_value': -9999.0, 'cell_methods': 'time:mean'}\n",
      "(1, 3500, 7000)\n",
      "Variable: Qair_f_tavg\n",
      "Attributes: {'standard_name': 'specific_humidity', 'long_name': 'specific humidity', 'units': 'kg kg-1', '_FillValue': -9999.0, 'missing_value': -9999.0, 'cell_methods': 'time:mean'}\n",
      "(1, 3500, 7000)\n",
      "Variable: Psurf_f_tavg\n",
      "Attributes: {'standard_name': 'surface_air_pressure', 'long_name': 'surface pressure', 'units': 'Pa', '_FillValue': -9999.0, 'missing_value': -9999.0, 'cell_methods': 'time:mean'}\n",
      "(1, 3500, 7000)\n",
      "Variable: SWdown_f_tavg\n",
      "Attributes: {'standard_name': 'surface_downwelling_shortwave_flux_in_air', 'long_name': 'surface downward shortwave radiation', 'units': 'W m-2', '_FillValue': -9999.0, 'missing_value': -9999.0, 'cell_methods': 'time:mean'}\n",
      "(1, 3500, 7000)\n",
      "Variable: Snowcover_inst\n",
      "Attributes: {'standard_name': 'surface_snow_area_fraction', 'long_name': 'snow cover', 'units': '-', '_FillValue': -9999.0, 'missing_value': -9999.0, 'cell_methods': 'time:point'}\n",
      "(1, 3500, 7000)\n",
      "Variable: SoilMoi00_10cm_tavg\n",
      "Attributes: {'standard_name': 'soil_moisture_content', 'long_name': 'soil moisture content', 'units': 'kg m-2', '_FillValue': -9999.0, 'missing_value': -9999.0, 'cell_methods': 'time:mean'}\n",
      "(1, 3500, 7000)\n",
      "Variable: SoilTemp00_10cm_tavg\n",
      "Attributes: {'standard_name': 'soil_temperature', 'long_name': 'soil temperature', 'units': 'K', '_FillValue': -9999.0, 'missing_value': -9999.0, 'cell_methods': 'time:mean'}\n",
      "(1, 3500, 7000)\n",
      "Variable: SoilMoi10_40cm_tavg\n",
      "Attributes: {'standard_name': 'soil_moisture_content', 'long_name': 'soil moisture content', 'units': 'kg m-2', '_FillValue': -9999.0, 'missing_value': -9999.0, 'cell_methods': 'time:mean'}\n",
      "(1, 3500, 7000)\n",
      "Variable: SoilTemp10_40cm_tavg\n",
      "Attributes: {'standard_name': 'soil_temperature', 'long_name': 'soil temperature', 'units': 'K', '_FillValue': -9999.0, 'missing_value': -9999.0, 'cell_methods': 'time:mean'}\n",
      "(1, 3500, 7000)\n",
      "Variable: SoilMoi40_100cm_tavg\n",
      "Attributes: {'standard_name': 'soil_moisture_content', 'long_name': 'soil moisture content', 'units': 'kg m-2', '_FillValue': -9999.0, 'missing_value': -9999.0, 'cell_methods': 'time:mean'}\n",
      "(1, 3500, 7000)\n",
      "Variable: SoilTemp40_100cm_tavg\n",
      "Attributes: {'standard_name': 'soil_temperature', 'long_name': 'soil temperature', 'units': 'K', '_FillValue': -9999.0, 'missing_value': -9999.0, 'cell_methods': 'time:mean'}\n",
      "(1, 3500, 7000)\n",
      "Variable: SoilMoi100_200cm_tavg\n",
      "Attributes: {'standard_name': 'soil_moisture_content', 'long_name': 'soil moisture content', 'units': 'kg m-2', '_FillValue': -9999.0, 'missing_value': -9999.0, 'cell_methods': 'time:mean'}\n",
      "(1, 3500, 7000)\n",
      "Variable: SoilTemp100_200cm_tavg\n",
      "Attributes: {'standard_name': 'soil_temperature', 'long_name': 'soil temperature', 'units': 'K', '_FillValue': -9999.0, 'missing_value': -9999.0, 'cell_methods': 'time:mean'}\n",
      "(1, 3500, 7000)\n",
      "Variable: time_bnds\n",
      "Attributes: {}\n",
      "(1, 2)\n"
     ]
    }
   ],
   "source": [
    "metadata = \"\"\n",
    "with nc.Dataset(file_path_2, 'r') as file:\n",
    "    # \n",
    "    # print(file)\n",
    "    for varname, variable in file.variables.items():\n",
    "        print(f\"Variable: {varname}\")\n",
    "       #  print(\"Shape:\", variable.shape)\n",
    "        print(\"Attributes:\", variable.__dict__)\n",
    "        print(variable[:].shape)\n",
    "    \n",
    "\n",
    "\n",
    "    \n",
    "        # print(\"Data:\", variable[:])  # Access the data, [:] retrieves the entire array"
   ]
  },
  {
   "cell_type": "code",
   "execution_count": null,
   "id": "46f62f90-e3ff-405f-ab1f-05dc56130046",
   "metadata": {},
   "outputs": [],
   "source": []
  },
  {
   "cell_type": "code",
   "execution_count": 30,
   "id": "6c260d6c-f11f-41c1-861e-13dda623cd63",
   "metadata": {},
   "outputs": [
    {
     "data": {
      "text/plain": [
       "'/home/arsalan/Public/uni/sem3/dbs/project/AgroNew/data/notebooks'"
      ]
     },
     "execution_count": 30,
     "metadata": {},
     "output_type": "execute_result"
    }
   ],
   "source": [
    "import os\n",
    "os.getcwd()"
   ]
  },
  {
   "cell_type": "code",
   "execution_count": 28,
   "id": "a806ee26-6032-42e6-806a-e8b02e536060",
   "metadata": {},
   "outputs": [],
   "source": [
    "# Save the NumPy array to a binary file\n",
    "np.save('lat_merra_values.npy', lat_values.data)"
   ]
  },
  {
   "cell_type": "code",
   "execution_count": 21,
   "id": "5eb72336-b4cc-4b0a-9dcf-51d2fd667388",
   "metadata": {},
   "outputs": [
    {
     "data": {
      "text/plain": [
       "360.0"
      ]
     },
     "execution_count": 21,
     "metadata": {},
     "output_type": "execute_result"
    }
   ],
   "source": [
    "576 * 0.625"
   ]
  },
  {
   "cell_type": "code",
   "execution_count": 11,
   "id": "d96303e8-85eb-4903-bfc5-09fd90eacb1c",
   "metadata": {},
   "outputs": [
    {
     "name": "stdout",
     "output_type": "stream",
     "text": [
      "\n"
     ]
    }
   ],
   "source": [
    "print(metadata)"
   ]
  },
  {
   "cell_type": "code",
   "execution_count": 13,
   "id": "0e719667-2b4c-4f5d-a8b1-26f19e4f0441",
   "metadata": {},
   "outputs": [
    {
     "name": "stdout",
     "output_type": "stream",
     "text": [
      "Variable: lon\n"
     ]
    },
    {
     "ename": "RuntimeError",
     "evalue": "NetCDF: Not a valid ID",
     "output_type": "error",
     "traceback": [
      "\u001b[0;31m---------------------------------------------------------------------------\u001b[0m",
      "\u001b[0;31mRuntimeError\u001b[0m                              Traceback (most recent call last)",
      "\u001b[0;32m/tmp/ipykernel_62242/2506480476.py\u001b[0m in \u001b[0;36m<module>\u001b[0;34m\u001b[0m\n\u001b[1;32m      2\u001b[0m \u001b[0;32mfor\u001b[0m \u001b[0mvarname\u001b[0m\u001b[0;34m,\u001b[0m \u001b[0mvariable\u001b[0m \u001b[0;32min\u001b[0m \u001b[0mfile\u001b[0m\u001b[0;34m.\u001b[0m\u001b[0mvariables\u001b[0m\u001b[0;34m.\u001b[0m\u001b[0mitems\u001b[0m\u001b[0;34m(\u001b[0m\u001b[0;34m)\u001b[0m\u001b[0;34m:\u001b[0m\u001b[0;34m\u001b[0m\u001b[0;34m\u001b[0m\u001b[0m\n\u001b[1;32m      3\u001b[0m     \u001b[0mprint\u001b[0m\u001b[0;34m(\u001b[0m\u001b[0;34mf\"Variable: {varname}\"\u001b[0m\u001b[0;34m)\u001b[0m\u001b[0;34m\u001b[0m\u001b[0;34m\u001b[0m\u001b[0m\n\u001b[0;32m----> 4\u001b[0;31m     \u001b[0mprint\u001b[0m\u001b[0;34m(\u001b[0m\u001b[0;34m\"Shape:\"\u001b[0m\u001b[0;34m,\u001b[0m \u001b[0mvariable\u001b[0m\u001b[0;34m.\u001b[0m\u001b[0mshape\u001b[0m\u001b[0;34m)\u001b[0m\u001b[0;34m\u001b[0m\u001b[0;34m\u001b[0m\u001b[0m\n\u001b[0m\u001b[1;32m      5\u001b[0m     \u001b[0mprint\u001b[0m\u001b[0;34m(\u001b[0m\u001b[0;34m\"Attributes:\"\u001b[0m\u001b[0;34m,\u001b[0m \u001b[0mvariable\u001b[0m\u001b[0;34m.\u001b[0m\u001b[0m__dict__\u001b[0m\u001b[0;34m)\u001b[0m\u001b[0;34m\u001b[0m\u001b[0;34m\u001b[0m\u001b[0m\n\u001b[1;32m      6\u001b[0m     \u001b[0mprint\u001b[0m\u001b[0;34m(\u001b[0m\u001b[0;34m\"Data:\"\u001b[0m\u001b[0;34m,\u001b[0m \u001b[0mvariable\u001b[0m\u001b[0;34m[\u001b[0m\u001b[0;34m:\u001b[0m\u001b[0;34m]\u001b[0m\u001b[0;34m)\u001b[0m  \u001b[0;31m# Access the data, [:] retrieves the entire array\u001b[0m\u001b[0;34m\u001b[0m\u001b[0;34m\u001b[0m\u001b[0m\n",
      "\u001b[0;32msrc/netCDF4/_netCDF4.pyx\u001b[0m in \u001b[0;36mnetCDF4._netCDF4.Variable.shape.__get__\u001b[0;34m()\u001b[0m\n",
      "\u001b[0;32msrc/netCDF4/_netCDF4.pyx\u001b[0m in \u001b[0;36mnetCDF4._netCDF4.Variable._getdims\u001b[0;34m()\u001b[0m\n",
      "\u001b[0;32msrc/netCDF4/_netCDF4.pyx\u001b[0m in \u001b[0;36mnetCDF4._netCDF4._ensure_nc_success\u001b[0;34m()\u001b[0m\n",
      "\u001b[0;31mRuntimeError\u001b[0m: NetCDF: Not a valid ID"
     ]
    }
   ],
   "source": [
    "# Access variables\n",
    "# import numpy as np\n",
    "\n",
    "# # Saving masked array 'arr':\n",
    "# np.savez_compressed('test.npz', data=arr.data, mask=arr.mask)\n",
    "\n",
    "# # Loading array back\n",
    "# with np.load('test.npz') as npz:\n",
    "    # arr = np.ma.MaskedArray(**npz)"
   ]
  },
  {
   "cell_type": "code",
   "execution_count": null,
   "id": "f7ca684e-e2c1-4a5a-9176-9d7678c8c0b9",
   "metadata": {},
   "outputs": [],
   "source": []
  }
 ],
 "metadata": {
  "kernelspec": {
   "display_name": "Python 3 (ipykernel)",
   "language": "python",
   "name": "python3"
  },
  "language_info": {
   "codemirror_mode": {
    "name": "ipython",
    "version": 3
   },
   "file_extension": ".py",
   "mimetype": "text/x-python",
   "name": "python",
   "nbconvert_exporter": "python",
   "pygments_lexer": "ipython3",
   "version": "3.10.12"
  }
 },
 "nbformat": 4,
 "nbformat_minor": 5
}
