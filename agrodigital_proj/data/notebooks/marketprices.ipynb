{
 "cells": [
  {
   "cell_type": "markdown",
   "id": "4cf3242d-a5b5-451c-9fcb-11d1e2b3d59f",
   "metadata": {},
   "source": [
    "## Interpreting the amis data:"
   ]
  },
  {
   "cell_type": "code",
   "execution_count": 9,
   "id": "145b4974-9d78-44bc-9470-d739f4d1f340",
   "metadata": {},
   "outputs": [],
   "source": [
    "import csv\n",
    "import numpy as np\n",
    "from datetime import datetime"
   ]
  },
  {
   "cell_type": "code",
   "execution_count": 19,
   "id": "3ae28571-cc13-44e8-80e7-60c120682f14",
   "metadata": {},
   "outputs": [],
   "source": [
    "import os\n",
    "import sys"
   ]
  },
  {
   "cell_type": "code",
   "execution_count": 103,
   "id": "60d67313-078e-40f6-adce-b24d59c866e5",
   "metadata": {},
   "outputs": [],
   "source": [
    "dir_path=\"../amis/csvfiles\""
   ]
  },
  {
   "cell_type": "code",
   "execution_count": 2,
   "id": "67530f0e-2c5d-4ad8-abab-58b0b22182c4",
   "metadata": {},
   "outputs": [],
   "source": [
    "file_path=\"../amis/wheatmultan.csv\""
   ]
  },
  {
   "cell_type": "code",
   "execution_count": 132,
   "id": "e735a600-6105-4bdb-9bbd-b1236ebc29ff",
   "metadata": {},
   "outputs": [],
   "source": [
    "dates=[]\n",
    "values=[]"
   ]
  },
  {
   "cell_type": "code",
   "execution_count": 133,
   "id": "59eb5752-d2df-4b4f-8bd6-55a4b75df8dc",
   "metadata": {},
   "outputs": [],
   "source": [
    "all_files = os.listdir(dir_path)"
   ]
  },
  {
   "cell_type": "code",
   "execution_count": 134,
   "id": "42026bb1-f766-4f02-9d34-94fb2d99c04a",
   "metadata": {},
   "outputs": [
    {
     "name": "stdout",
     "output_type": "stream",
     "text": [
      "rice\n",
      "sugar\n",
      "rice\n",
      "wheat\n",
      "wheat\n",
      "rice\n",
      "rice\n",
      "rice\n",
      "wheat\n",
      "wheat\n",
      "sugar\n",
      "rice\n",
      "sugar\n",
      "sugar\n",
      "sugar\n",
      "wheat\n"
     ]
    }
   ],
   "source": [
    "for file_path in all_files:\n",
    "    with open(os.path.join(dir_path,file_path), newline='',encoding='utf-8') as csvfile:\n",
    "        reader = csv.reader(csvfile)\n",
    "        next(reader)\n",
    "        info_line = next(reader)\n",
    "        for _ in range(4):\n",
    "            next(reader)\n",
    "        for row in reader:\n",
    "            # Extract relevant columns\n",
    "            if len(row)<3:\n",
    "                break;\n",
    "            date_str = row[1]\n",
    "            value_str = row[2]\n",
    "    \n",
    "            # Check if both date and value are present\n",
    "            if date_str and value_str:\n",
    "                # Convert date string to a datetime object\n",
    "                date = datetime.strptime(date_str, '%d %b %y')\n",
    "                \n",
    "                # Append date to the 'dates' list\n",
    "                dates.append(date)\n",
    "    \n",
    "                # Append value to the 'values' list\n",
    "                values.append(float(value_str))\n",
    "    dates_array=np.array(dates)\n",
    "    values_array=np.array(values)\n",
    "    crop_name = info_line[0].lower().split()[0]\n",
    "    print(crop_name)\n",
    "    np.savez(f\"../amis/numpy/{crop_name}_{info_line[1].lower()}.npz\", values=values_array, dates=dates_array)"
   ]
  },
  {
   "cell_type": "code",
   "execution_count": null,
   "id": "a2299688-a3c8-4ea9-92ca-78c1c68022bb",
   "metadata": {},
   "outputs": [],
   "source": []
  },
  {
   "cell_type": "code",
   "execution_count": null,
   "id": "748b179b-610c-4a3f-b677-08e1a0b657f4",
   "metadata": {},
   "outputs": [],
   "source": []
  },
  {
   "cell_type": "code",
   "execution_count": 135,
   "id": "bee9544b-a8e3-4811-8d89-d1ce024b7bd9",
   "metadata": {},
   "outputs": [
    {
     "data": {
      "text/plain": [
       "['Wheat', 'BahawalPur', '6/15/2012', '12/11/2023', 'Rs./100kg']"
      ]
     },
     "execution_count": 135,
     "metadata": {},
     "output_type": "execute_result"
    }
   ],
   "source": [
    "info_line"
   ]
  },
  {
   "cell_type": "code",
   "execution_count": null,
   "id": "7e11ab3b-07ed-4297-8176-9b6386d9883c",
   "metadata": {},
   "outputs": [],
   "source": []
  },
  {
   "cell_type": "code",
   "execution_count": 116,
   "id": "efa0ed90-2c26-4875-a05f-13f2416a2272",
   "metadata": {},
   "outputs": [
    {
     "ename": "FileNotFoundError",
     "evalue": "[Errno 2] No such file or directory: 'wheatbhawalpur.csv'",
     "output_type": "error",
     "traceback": [
      "\u001b[0;31m---------------------------------------------------------------------------\u001b[0m",
      "\u001b[0;31mFileNotFoundError\u001b[0m                         Traceback (most recent call last)",
      "Cell \u001b[0;32mIn[116], line 1\u001b[0m\n\u001b[0;32m----> 1\u001b[0m \u001b[38;5;28;01mwith\u001b[39;00m \u001b[38;5;28;43mopen\u001b[39;49m\u001b[43m(\u001b[49m\u001b[43mfile_path\u001b[49m\u001b[43m,\u001b[49m\u001b[43m \u001b[49m\u001b[43mnewline\u001b[49m\u001b[38;5;241;43m=\u001b[39;49m\u001b[38;5;124;43m'\u001b[39;49m\u001b[38;5;124;43m'\u001b[39;49m\u001b[43m,\u001b[49m\u001b[43m \u001b[49m\u001b[43mencoding\u001b[49m\u001b[38;5;241;43m=\u001b[39;49m\u001b[38;5;124;43m'\u001b[39;49m\u001b[38;5;124;43mutf-8\u001b[39;49m\u001b[38;5;124;43m'\u001b[39;49m\u001b[43m)\u001b[49m \u001b[38;5;28;01mas\u001b[39;00m csvfile:\n\u001b[1;32m      2\u001b[0m     reader \u001b[38;5;241m=\u001b[39m csv\u001b[38;5;241m.\u001b[39mreader(csvfile)\n\u001b[1;32m      3\u001b[0m     \u001b[38;5;28mnext\u001b[39m(reader)\n",
      "File \u001b[0;32m~/.local/lib/python3.10/site-packages/IPython/core/interactiveshell.py:310\u001b[0m, in \u001b[0;36m_modified_open\u001b[0;34m(file, *args, **kwargs)\u001b[0m\n\u001b[1;32m    303\u001b[0m \u001b[38;5;28;01mif\u001b[39;00m file \u001b[38;5;129;01min\u001b[39;00m {\u001b[38;5;241m0\u001b[39m, \u001b[38;5;241m1\u001b[39m, \u001b[38;5;241m2\u001b[39m}:\n\u001b[1;32m    304\u001b[0m     \u001b[38;5;28;01mraise\u001b[39;00m \u001b[38;5;167;01mValueError\u001b[39;00m(\n\u001b[1;32m    305\u001b[0m         \u001b[38;5;124mf\u001b[39m\u001b[38;5;124m\"\u001b[39m\u001b[38;5;124mIPython won\u001b[39m\u001b[38;5;124m'\u001b[39m\u001b[38;5;124mt let you open fd=\u001b[39m\u001b[38;5;132;01m{\u001b[39;00mfile\u001b[38;5;132;01m}\u001b[39;00m\u001b[38;5;124m by default \u001b[39m\u001b[38;5;124m\"\u001b[39m\n\u001b[1;32m    306\u001b[0m         \u001b[38;5;124m\"\u001b[39m\u001b[38;5;124mas it is likely to crash IPython. If you know what you are doing, \u001b[39m\u001b[38;5;124m\"\u001b[39m\n\u001b[1;32m    307\u001b[0m         \u001b[38;5;124m\"\u001b[39m\u001b[38;5;124myou can use builtins\u001b[39m\u001b[38;5;124m'\u001b[39m\u001b[38;5;124m open.\u001b[39m\u001b[38;5;124m\"\u001b[39m\n\u001b[1;32m    308\u001b[0m     )\n\u001b[0;32m--> 310\u001b[0m \u001b[38;5;28;01mreturn\u001b[39;00m \u001b[43mio_open\u001b[49m\u001b[43m(\u001b[49m\u001b[43mfile\u001b[49m\u001b[43m,\u001b[49m\u001b[43m \u001b[49m\u001b[38;5;241;43m*\u001b[39;49m\u001b[43margs\u001b[49m\u001b[43m,\u001b[49m\u001b[43m \u001b[49m\u001b[38;5;241;43m*\u001b[39;49m\u001b[38;5;241;43m*\u001b[39;49m\u001b[43mkwargs\u001b[49m\u001b[43m)\u001b[49m\n",
      "\u001b[0;31mFileNotFoundError\u001b[0m: [Errno 2] No such file or directory: 'wheatbhawalpur.csv'"
     ]
    }
   ],
   "source": [
    "with open(file_path, newline='', encoding='utf-8') as csvfile:\n",
    "    reader = csv.reader(csvfile)\n",
    "    next(reader)\n",
    "    first_line=next(reader)\n",
    "    print(first_line)"
   ]
  },
  {
   "cell_type": "markdown",
   "id": "f84e1a19-cdcd-4f08-aeca-af976dbe5d14",
   "metadata": {},
   "source": []
  },
  {
   "cell_type": "code",
   "execution_count": 136,
   "id": "5518a596-acd4-4af7-b9e7-834344d97fbd",
   "metadata": {},
   "outputs": [],
   "source": [
    "numpy_file_dir = \"../amis/numpy\""
   ]
  },
  {
   "cell_type": "code",
   "execution_count": 137,
   "id": "170d7095-ae8f-4419-8612-a0322f0504b9",
   "metadata": {},
   "outputs": [],
   "source": [
    "numpy_files = os.listdir(numpy_file_dir)"
   ]
  },
  {
   "cell_type": "code",
   "execution_count": 138,
   "id": "cc97107f-3273-4d80-8eb0-5c2a30e824ef",
   "metadata": {},
   "outputs": [
    {
     "data": {
      "text/plain": [
       "'sugar_gujranwala.npz'"
      ]
     },
     "execution_count": 138,
     "metadata": {},
     "output_type": "execute_result"
    }
   ],
   "source": [
    "demo_file=numpy_files[0]\n",
    "demo_file"
   ]
  },
  {
   "cell_type": "code",
   "execution_count": 38,
   "id": "566874bf-5761-4009-a7d8-33b2cd80723e",
   "metadata": {},
   "outputs": [],
   "source": [
    "bhaw_wheat = np.load(os.path.join(numpy_file_dir,demo_file), allow_pickle=True)"
   ]
  },
  {
   "cell_type": "code",
   "execution_count": 30,
   "id": "8255af04-7345-4b8d-80b6-ba9402c531b1",
   "metadata": {},
   "outputs": [
    {
     "data": {
      "text/plain": [
       "(57765,)"
      ]
     },
     "execution_count": 30,
     "metadata": {},
     "output_type": "execute_result"
    }
   ],
   "source": [
    "bhaw_wheat['values'].shape"
   ]
  },
  {
   "cell_type": "code",
   "execution_count": 32,
   "id": "53c68dd1-90cf-44e1-a76e-c23664814b1f",
   "metadata": {},
   "outputs": [
    {
     "name": "stdout",
     "output_type": "stream",
     "text": [
      "Defaulting to user installation because normal site-packages is not writeable\n",
      "Collecting scikit-learn\n",
      "  Downloading scikit_learn-1.3.2-cp310-cp310-manylinux_2_17_x86_64.manylinux2014_x86_64.whl.metadata (11 kB)\n",
      "Requirement already satisfied: numpy<2.0,>=1.17.3 in /home/arsal4an/.local/lib/python3.10/site-packages (from scikit-learn) (1.26.2)\n",
      "Collecting scipy>=1.5.0 (from scikit-learn)\n",
      "  Downloading scipy-1.11.4-cp310-cp310-manylinux_2_17_x86_64.manylinux2014_x86_64.whl.metadata (60 kB)\n",
      "\u001b[2K     \u001b[38;2;114;156;31m━━━━━━━━━━━━━━━━━━━━━━━━━━━━━━━━━━━━━━━\u001b[0m \u001b[32m60.4/60.4 kB\u001b[0m \u001b[31m168.4 kB/s\u001b[0m eta \u001b[36m0:00:00\u001b[0m kB/s\u001b[0m eta \u001b[36m0:00:01\u001b[0m:01\u001b[0m\n",
      "\u001b[?25hRequirement already satisfied: joblib>=1.1.1 in /home/arsal4an/.local/lib/python3.10/site-packages (from scikit-learn) (1.3.2)\n",
      "Collecting threadpoolctl>=2.0.0 (from scikit-learn)\n",
      "  Downloading threadpoolctl-3.2.0-py3-none-any.whl.metadata (10.0 kB)\n",
      "Downloading scikit_learn-1.3.2-cp310-cp310-manylinux_2_17_x86_64.manylinux2014_x86_64.whl (10.8 MB)\n",
      "\u001b[2K   \u001b[38;2;114;156;31m━━━━━━━━━━━━━━━━━━━━━━━━━━━━━━━━━━━━━━━━\u001b[0m \u001b[32m10.8/10.8 MB\u001b[0m \u001b[31m7.4 MB/s\u001b[0m eta \u001b[36m0:00:00\u001b[0mm eta \u001b[36m0:00:01\u001b[0m0:01\u001b[0m01\u001b[0m0m\n",
      "\u001b[?25hDownloading scipy-1.11.4-cp310-cp310-manylinux_2_17_x86_64.manylinux2014_x86_64.whl (36.4 MB)\n",
      "\u001b[2K   \u001b[38;2;114;156;31m━━━━━━━━━━━━━━━━━━━━━━━━━━━━━━━━━━━━━━━━\u001b[0m \u001b[32m36.4/36.4 MB\u001b[0m \u001b[31m10.0 MB/s\u001b[0m eta \u001b[36m0:00:00\u001b[0mm eta \u001b[36m0:00:01\u001b[0m:01\u001b[0m0:01\u001b[0m\n",
      "\u001b[?25hDownloading threadpoolctl-3.2.0-py3-none-any.whl (15 kB)\n",
      "Installing collected packages: threadpoolctl, scipy, scikit-learn\n",
      "Successfully installed scikit-learn-1.3.2 scipy-1.11.4 threadpoolctl-3.2.0\n"
     ]
    }
   ],
   "source": [
    "!pip install scikit-learn"
   ]
  },
  {
   "cell_type": "code",
   "execution_count": 82,
   "id": "dfbecd19-3f16-4dad-8421-213854c5c7cc",
   "metadata": {},
   "outputs": [],
   "source": [
    "from sklearn.preprocessing import PolynomialFeatures\n",
    "from sklearn.linear_model import LinearRegression\n",
    "from sklearn.pipeline import make_pipeline\n",
    "from sklearn.model_selection import train_test_split\n",
    "from sklearn.metrics import mean_squared_error, r2_score\n",
    "import pickle"
   ]
  },
  {
   "cell_type": "code",
   "execution_count": 83,
   "id": "fc65f9d1-87e9-4f46-9668-5185872a2b7a",
   "metadata": {},
   "outputs": [],
   "source": [
    "min_date = datetime(2010, 1, 1, 0, 0)"
   ]
  },
  {
   "cell_type": "code",
   "execution_count": 86,
   "id": "b8d4c6fa-3a2d-447a-8c6a-eaf76ac93633",
   "metadata": {},
   "outputs": [],
   "source": [
    "pickle_dest = \"../amis/models/{}.pkl\";"
   ]
  },
  {
   "cell_type": "code",
   "execution_count": 142,
   "id": "c07caacd-869a-411e-bd5b-0396f9e404c8",
   "metadata": {},
   "outputs": [
    {
     "name": "stdout",
     "output_type": "stream",
     "text": [
      "Mean Squared Error: 15206504.519263133\n",
      "R-squared: 0.4327643222422012\n",
      "Mean Squared Error: 13293519.029825274\n",
      "R-squared: 0.40956278096228826\n",
      "Mean Squared Error: 13012344.594515193\n",
      "R-squared: 0.4403722270872058\n",
      "Mean Squared Error: 14729979.067273667\n",
      "R-squared: 0.3850078242834237\n",
      "Mean Squared Error: 14720053.162784662\n",
      "R-squared: 0.4649756467244168\n",
      "Mean Squared Error: 13007758.15527818\n",
      "R-squared: 0.43060480129175194\n",
      "Mean Squared Error: 957325.2465605554\n",
      "R-squared: 0.6078407131168557\n",
      "Mean Squared Error: 15343618.740183366\n",
      "R-squared: 0.46608896513270615\n",
      "Mean Squared Error: 13260325.838639243\n",
      "R-squared: 0.5271524707086678\n",
      "Mean Squared Error: 3188290.9893065137\n",
      "R-squared: 0.5880606093907295\n",
      "Mean Squared Error: 14330615.792587724\n",
      "R-squared: 0.5105351870020297\n",
      "Mean Squared Error: 13678833.520366507\n",
      "R-squared: 0.4414846789490534\n",
      "Mean Squared Error: 14707878.374338772\n",
      "R-squared: 0.40099676590017186\n",
      "Mean Squared Error: 5438948.795596619\n",
      "R-squared: 0.34831272459868334\n",
      "Mean Squared Error: 12357233.095091926\n",
      "R-squared: 0.40852326315518683\n",
      "Mean Squared Error: 13719458.898426369\n",
      "R-squared: 0.3951294769781897\n"
     ]
    }
   ],
   "source": [
    "for eachfile in numpy_files:\n",
    "\n",
    "    numfile = np.load(os.path.join(numpy_file_dir,eachfile), allow_pickle=True)\n",
    "    \n",
    "    dates=numfile['dates'][:-500]\n",
    "    prices=numfile['values'][:-500]\n",
    "    \n",
    "    numeric_dates = (dates - min_date).astype('timedelta64[D]').astype(int).reshape(-1, 1)\n",
    "    \n",
    "    # Split the data into training and testing sets\n",
    "    X_train, X_test, y_train, y_test = train_test_split(numeric_dates, prices, test_size=0.2, random_state=42)\n",
    "    \n",
    "    # Create a polynomial regression model\n",
    "    degree = 3 # You can adjust the degree of the polynomial\n",
    "    model = make_pipeline(PolynomialFeatures(degree), LinearRegression())\n",
    "    \n",
    "    # Train the model\n",
    "    model.fit(X_train, y_train)\n",
    "    \n",
    "    # Make predictions on the test set\n",
    "    y_pred = model.predict(X_test)\n",
    "\n",
    "    with open(pickle_dest.format(eachfile[:-4]), 'wb') as file:\n",
    "        pickle.dump(model,file)\n",
    "\n",
    "    plt.scatter(numeric_dates, prices, color='black', label='Actual Prices')\n",
    "    plt.plot(numeric_dates, model.predict(numeric_dates), color='blue', label=f'Polynomial Regression (Degree {degree})')\n",
    "    plt.xlabel('Numeric Dates')\n",
    "    plt.ylabel('Prices')\n",
    "    plt.legend()\n",
    "    plt.savefig(f\"../amis/plots/{eachfile[:-4]}.png\")\n",
    "    plt.close()\n",
    "    \n",
    "    \n",
    "    # Evaluate the model\n",
    "    mse = mean_squared_error(y_test, y_pred)\n",
    "    r2 = r2_score(y_test, y_pred)\n",
    "    \n",
    "    print(\"Mean Squared Error:\", mse)\n",
    "    print(\"R-squared:\", r2)\n"
   ]
  },
  {
   "cell_type": "code",
   "execution_count": 77,
   "id": "6b3dc215-5b81-42ba-a9f4-e9c5d4169cbf",
   "metadata": {},
   "outputs": [],
   "source": [
    "import matplotlib.pyplot as plt"
   ]
  },
  {
   "cell_type": "code",
   "execution_count": 100,
   "id": "d01cf85a-f582-4424-86f2-9f2849184a26",
   "metadata": {},
   "outputs": [
    {
     "data": {
      "image/png": "[encoded data removed]",
      "text/plain": [
       "<Figure size 640x480 with 1 Axes>"
      ]
     },
     "metadata": {},
     "output_type": "display_data"
    }
   ],
   "source": [
    "# Visualize the regression line\n",
    "plt.scatter(numeric_dates, prices, color='black', label='Actual Prices')\n",
    "plt.plot(numeric_dates, model.predict(numeric_dates), color='blue', label=f'Polynomial Regression (Degree {degree})')\n",
    "plt.xlabel('Numeric Dates')\n",
    "plt.ylabel('Prices')\n",
    "plt.legend()\n",
    "plt.show()"
   ]
  },
  {
   "cell_type": "markdown",
   "id": "b2eb3c5a-05cb-4c73-bf32-234a5ceb643f",
   "metadata": {},
   "source": []
  },
  {
   "cell_type": "code",
   "execution_count": null,
   "id": "2761b187-0e67-4ede-a771-e091b5edf5d1",
   "metadata": {},
   "outputs": [],
   "source": []
  }
 ],
 "metadata": {
  "kernelspec": {
   "display_name": "Python 3 (ipykernel)",
   "language": "python",
   "name": "python3"
  },
  "language_info": {
   "codemirror_mode": {
    "name": "ipython",
    "version": 3
   },
   "file_extension": ".py",
   "mimetype": "text/x-python",
   "name": "python",
   "nbconvert_exporter": "python",
   "pygments_lexer": "ipython3",
   "version": "3.10.12"
  }
 },
 "nbformat": 4,
 "nbformat_minor": 5
}
