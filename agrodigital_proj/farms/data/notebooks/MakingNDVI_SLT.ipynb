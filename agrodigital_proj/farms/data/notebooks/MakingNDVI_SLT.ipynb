{
 "cells": [
  {
   "cell_type": "code",
   "execution_count": 32,
   "id": "cd1f729d-faeb-4d96-a3c4-b0c26ba13f78",
   "metadata": {},
   "outputs": [],
   "source": [
    "import numpy as np\n",
    "from pyhdf import SD\n",
    "import os"
   ]
  },
  {
   "cell_type": "code",
   "execution_count": 46,
   "id": "6cc014d3-a9f8-4136-906f-2d2e64476eb0",
   "metadata": {},
   "outputs": [],
   "source": [
    "ndvi_dir_path = \"../ndvi\"\n",
    "ndvi_file_path = \"MOD13A1.A2023321.{}\"\n",
    "ndvi_dest_path = \"../ndvi/ndvi_{}.npy\"\n",
    "\n",
    "lst_dir_path = \"../landsurftemp\"\n",
    "lst_file_path = \"MOD11A2.A2023337.{}\"\n",
    "lst_dest_path = \"../landsurftemp/lst_{}.npy\""
   ]
  },
  {
   "cell_type": "code",
   "execution_count": 41,
   "id": "091132e5-f7f6-4fe9-ab09-68ff793aca68",
   "metadata": {},
   "outputs": [
    {
     "name": "stdout",
     "output_type": "stream",
     "text": [
      "['ndvi_h24v06.npy', 'ndvi_h23v05.npy', 'MOD13A1.A2023321.h23v06.061.2023340005019.hdf', 'ndvi_h23v06.npy', 'MOD13A1.A2023321.h24v05.061.2023340004641.hdf', 'MOD13A1.A2023321.h24v06.061.2023340004632.hdf', 'MOD13A1.A2023321.h23v05.061.2023340004705.hdf', 'ndvi_h24v05.npy', 'check.hdf']\n"
     ]
    }
   ],
   "source": [
    "ndvi_files = os.listdir(ndvi_dir_path)\n",
    "lst_files = os.listdir(lst_dir_path)"
   ]
  },
  {
   "cell_type": "code",
   "execution_count": 38,
   "id": "05a15432-3bdd-4181-aa62-d9f7f0d11202",
   "metadata": {},
   "outputs": [
    {
     "data": {
      "text/plain": [
       "False"
      ]
     },
     "execution_count": 38,
     "metadata": {},
     "output_type": "execute_result"
    }
   ],
   "source": [
    "os.path.exists(ndvi_file_path.format(\"h23v05\"))"
   ]
  },
  {
   "cell_type": "code",
   "execution_count": 9,
   "id": "3db17792-1b1b-47ac-946c-43a68235cbba",
   "metadata": {},
   "outputs": [],
   "source": [
    "file_indexes = [\"h23v05\", \"h23v06\", \"h24v05\", \"h24v06\"]"
   ]
  },
  {
   "cell_type": "code",
   "execution_count": 56,
   "id": "dc903d97-84e7-4fbc-b3ad-f846152bbf15",
   "metadata": {},
   "outputs": [
    {
     "name": "stdout",
     "output_type": "stream",
     "text": [
      "MOD13A1.A2023321.h23v05.061.2023340004705.hdf\n",
      "MOD13A1.A2023321.h23v06.061.2023340005019.hdf\n",
      "MOD13A1.A2023321.h24v05.061.2023340004641.hdf\n",
      "MOD13A1.A2023321.h24v06.061.2023340004632.hdf\n"
     ]
    }
   ],
   "source": [
    "for each_index in file_indexes:\n",
    "    ndvi_file_curr = ndvi_file_path.format(each_index)\n",
    "    ndvi_file = [file for file in ndvi_files if file.startswith(ndvi_file_curr)][0]\n",
    "    print(ndvi_file)\n",
    "    hdf_file = SD.SD(os.path.join(ndvi_dir_path,ndvi_file), SD.SDC.READ)\n",
    "    dataset = hdf_file.select(\"500m 16 days NDVI\")\n",
    "    data_ndvi = dataset.get()\n",
    "    np.save(ndvi_dest_path.format(each_index), data_ndvi)"
   ]
  },
  {
   "cell_type": "code",
   "execution_count": 58,
   "id": "f32ffa01-6756-4cfb-996b-7349e8f429a2",
   "metadata": {},
   "outputs": [
    {
     "name": "stdout",
     "output_type": "stream",
     "text": [
      "MOD11A2.A2023337.h23v05.061.2023346033837.hdf\n",
      "MOD11A2.A2023337.h23v06.061.2023346033928.hdf\n",
      "MOD11A2.A2023337.h24v05.061.2023346034601.hdf\n",
      "MOD11A2.A2023337.h24v06.061.2023346034922.hdf\n"
     ]
    }
   ],
   "source": [
    "for each_index in file_indexes:\n",
    "    lst_file_curr = lst_file_path.format(each_index)\n",
    "    lst_file = [file for file in lst_files if file.startswith(lst_file_curr)][0]\n",
    "    print(lst_file)\n",
    "    hdf_file = SD.SD(os.path.join(lst_dir_path,lst_file), SD.SDC.READ)\n",
    "    dataset = hdf_file.select(\"LST_Day_1km\")\n",
    "    data_lst = dataset.get()\n",
    "    np.save(lst_dest_path.format(each_index), data_lst)"
   ]
  },
  {
   "cell_type": "code",
   "execution_count": 26,
   "id": "4716a2bd-0904-4a94-9bd7-0ffab8069fa8",
   "metadata": {},
   "outputs": [
    {
     "name": "stdout",
     "output_type": "stream",
     "text": [
      "(1200, 1200)\n",
      "(1200, 1200)\n",
      "(1200, 1200)\n",
      "(1200, 1200)\n"
     ]
    }
   ],
   "source": [
    "# for each_index in file_indexes:\n",
    "#     hdf_file = SD.SD(lst_file_path.format(each_index), SD.SDC.READ)\n",
    "#     dataset = hdf_file.select(\"LST_Day_1km\")\n",
    "#     data_lst = dataset.get()\n",
    "#     print(data_lst.shape)\n",
    "#     np.save(lst_dest_path.format(each_index), data_lst)"
   ]
  },
  {
   "cell_type": "markdown",
   "id": "20a66e81-8084-4d4a-aa4e-bc7d04f6f8ae",
   "metadata": {},
   "source": [
    "NDVI and LST are now saved in numpy format that can be accessed, we will continue to make functions to access them here:"
   ]
  },
  {
   "cell_type": "code",
   "execution_count": 93,
   "id": "fff69e62-7d67-40ea-be4c-6b2ba868e3b4",
   "metadata": {},
   "outputs": [],
   "source": [
    "def get_ndvi(x, y, file_index):\n",
    "    if not (0 < x < 1200 and 0 < y < 1200):\n",
    "        raise ValueError(\"Invalid range of coordinates provided\")\n",
    "    ndvi_data = np.load(ndvi_dest_path.format(file_index))\n",
    "    return ndvi_data[x, y]*0.0001"
   ]
  },
  {
   "cell_type": "code",
   "execution_count": 94,
   "id": "4a9b1439-b713-4b41-8a1d-aa4dd79c959d",
   "metadata": {},
   "outputs": [],
   "source": [
    "def get_lst(x, y, file_index):\n",
    "    if not (0 < x < 1200 and 0 < y < 1200):\n",
    "        raise ValueError(\"Invalid range of coordinates provided\")\n",
    "    lst_data = np.load(lst_dest_path.format(file_index))\n",
    "    return lst_data[x, y] * 0.021"
   ]
  },
  {
   "cell_type": "code",
   "execution_count": 95,
   "id": "4af5ca1a-82a3-403a-8955-49480fbb808e",
   "metadata": {},
   "outputs": [
    {
     "ename": "ValueError",
     "evalue": "Invalid range of coordinates provided",
     "output_type": "error",
     "traceback": [
      "\u001b[0;31m---------------------------------------------------------------------------\u001b[0m",
      "\u001b[0;31mValueError\u001b[0m                                Traceback (most recent call last)",
      "\u001b[0;32m/tmp/ipykernel_72669/3539782744.py\u001b[0m in \u001b[0;36m<module>\u001b[0;34m\u001b[0m\n\u001b[0;32m----> 1\u001b[0;31m \u001b[0mget_ndvi\u001b[0m\u001b[0;34m(\u001b[0m\u001b[0;36m400\u001b[0m\u001b[0;34m,\u001b[0m \u001b[0;36m11000\u001b[0m\u001b[0;34m,\u001b[0m \u001b[0;34m\"h23v06\"\u001b[0m\u001b[0;34m)\u001b[0m\u001b[0;34m\u001b[0m\u001b[0;34m\u001b[0m\u001b[0m\n\u001b[0m",
      "\u001b[0;32m/tmp/ipykernel_72669/3602609630.py\u001b[0m in \u001b[0;36mget_ndvi\u001b[0;34m(x, y, file_index)\u001b[0m\n\u001b[1;32m      1\u001b[0m \u001b[0;32mdef\u001b[0m \u001b[0mget_ndvi\u001b[0m\u001b[0;34m(\u001b[0m\u001b[0mx\u001b[0m\u001b[0;34m,\u001b[0m \u001b[0my\u001b[0m\u001b[0;34m,\u001b[0m \u001b[0mfile_index\u001b[0m\u001b[0;34m)\u001b[0m\u001b[0;34m:\u001b[0m\u001b[0;34m\u001b[0m\u001b[0;34m\u001b[0m\u001b[0m\n\u001b[1;32m      2\u001b[0m     \u001b[0;32mif\u001b[0m \u001b[0;32mnot\u001b[0m \u001b[0;34m(\u001b[0m\u001b[0;36m0\u001b[0m \u001b[0;34m<\u001b[0m \u001b[0mx\u001b[0m \u001b[0;34m<\u001b[0m \u001b[0;36m1200\u001b[0m \u001b[0;32mand\u001b[0m \u001b[0;36m0\u001b[0m \u001b[0;34m<\u001b[0m \u001b[0my\u001b[0m \u001b[0;34m<\u001b[0m \u001b[0;36m1200\u001b[0m\u001b[0;34m)\u001b[0m\u001b[0;34m:\u001b[0m\u001b[0;34m\u001b[0m\u001b[0;34m\u001b[0m\u001b[0m\n\u001b[0;32m----> 3\u001b[0;31m         \u001b[0;32mraise\u001b[0m \u001b[0mValueError\u001b[0m\u001b[0;34m(\u001b[0m\u001b[0;34m\"Invalid range of coordinates provided\"\u001b[0m\u001b[0;34m)\u001b[0m\u001b[0;34m\u001b[0m\u001b[0;34m\u001b[0m\u001b[0m\n\u001b[0m\u001b[1;32m      4\u001b[0m     \u001b[0mndvi_data\u001b[0m \u001b[0;34m=\u001b[0m \u001b[0mnp\u001b[0m\u001b[0;34m.\u001b[0m\u001b[0mload\u001b[0m\u001b[0;34m(\u001b[0m\u001b[0mndvi_dest_path\u001b[0m\u001b[0;34m.\u001b[0m\u001b[0mformat\u001b[0m\u001b[0;34m(\u001b[0m\u001b[0mfile_index\u001b[0m\u001b[0;34m)\u001b[0m\u001b[0;34m)\u001b[0m\u001b[0;34m\u001b[0m\u001b[0;34m\u001b[0m\u001b[0m\n\u001b[1;32m      5\u001b[0m     \u001b[0;32mreturn\u001b[0m \u001b[0mndvi_data\u001b[0m\u001b[0;34m[\u001b[0m\u001b[0mx\u001b[0m\u001b[0;34m,\u001b[0m \u001b[0my\u001b[0m\u001b[0;34m]\u001b[0m\u001b[0;34m*\u001b[0m\u001b[0;36m0.0001\u001b[0m\u001b[0;34m\u001b[0m\u001b[0;34m\u001b[0m\u001b[0m\n",
      "\u001b[0;31mValueError\u001b[0m: Invalid range of coordinates provided"
     ]
    }
   ],
   "source": [
    "get_ndvi(400, 11000, \"h23v06\")"
   ]
  },
  {
   "cell_type": "code",
   "execution_count": null,
   "id": "dbd07622-c4d8-4a67-ae03-4d7fd4e62f6f",
   "metadata": {},
   "outputs": [],
   "source": []
  }
 ],
 "metadata": {
  "kernelspec": {
   "display_name": "Python 3 (ipykernel)",
   "language": "python",
   "name": "python3"
  },
  "language_info": {
   "codemirror_mode": {
    "name": "ipython",
    "version": 3
   },
   "file_extension": ".py",
   "mimetype": "text/x-python",
   "name": "python",
   "nbconvert_exporter": "python",
   "pygments_lexer": "ipython3",
   "version": "3.10.12"
  }
 },
 "nbformat": 4,
 "nbformat_minor": 5
}
